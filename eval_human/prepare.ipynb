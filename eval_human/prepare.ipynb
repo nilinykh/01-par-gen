{
 "cells": [
  {
   "cell_type": "code",
   "execution_count": 33,
   "metadata": {},
   "outputs": [],
   "source": [
    "import json\n",
    "import pandas as pd\n",
    "\n",
    "basepath = '/home/xilini/par-gen/01-par-gen/model/scores/'\n",
    "\n",
    "with open('/home/xilini/par-gen/01-par-gen/data/dataset_paragraphs_v1.json', 'r') as s:\n",
    "    data = json.load(s)['images']\n",
    "with open(basepath + 'VISUAL-beam_2_cidertest.json', 'r') as f1:\n",
    "    VISUAL = json.load(f1)\n",
    "with open(basepath + 'LANGUAGE-beam_2_cidertest.json', 'r') as f2:\n",
    "    LANGUAGE = json.load(f2)\n",
    "with open(basepath + 'VISUAL_LANGUAGE-beam_2_cidertest.json', 'r') as f3:\n",
    "    VIS_LANG = json.load(f3)"
   ]
  },
  {
   "cell_type": "code",
   "execution_count": 35,
   "metadata": {},
   "outputs": [],
   "source": [
    "# choose randomly 50 images and generate json file with paths to these images\n",
    "\n",
    "stanford_path = 'https://cs.stanford.edu/people/rak248/'\n",
    "image_loc = {}\n",
    "for item in data:\n",
    "    if item['split'] == 'test':\n",
    "        filepath = item['filepath']\n",
    "        image_id = item['stanford_par_id']\n",
    "        image_path = stanford_path + str(filepath) + '/' + str(image_id) + '.jpg'\n",
    "        image_loc[image_id] = image_path\n",
    "\n",
    "import random\n",
    "images = list(image_loc.keys())\n",
    "random.seed(4)\n",
    "random.shuffle(images)\n",
    "\n",
    "images = images[:50]\n",
    "\n",
    "random_dict = {}\n",
    "for k in images:\n",
    "    if k in image_loc.keys():\n",
    "        random_dict[k] = image_loc[k]\n",
    "\n",
    "with open('/home/xilini/par-gen/01-par-gen/data/stanford_loc.json', 'w') as st:\n",
    "    json.dump(random_dict, st)"
   ]
  },
  {
   "cell_type": "code",
   "execution_count": 37,
   "metadata": {},
   "outputs": [],
   "source": [
    "def make_df(data_input, par_dict):\n",
    "    csv_dict = {}\n",
    "    csv_dict['Image'] = []\n",
    "    csv_dict['Paragraph'] = []\n",
    "\n",
    "    for item in data_input:\n",
    "        if item['image_id'] in par_dict.keys():\n",
    "            image_link = par_dict[item['image_id']]\n",
    "            hyps = item['hypotheses']\n",
    "            csv_dict['Image'].append(image_link)\n",
    "            csv_dict['Paragraph'].append(hyps)\n",
    "            \n",
    "    return csv_dict"
   ]
  },
  {
   "cell_type": "code",
   "execution_count": null,
   "metadata": {},
   "outputs": [],
   "source": []
  },
  {
   "cell_type": "code",
   "execution_count": 42,
   "metadata": {},
   "outputs": [],
   "source": [
    "vis_df = make_df(VISUAL, random_dict)\n",
    "vis_csv_df = pd.DataFrame(data=vis_df)"
   ]
  },
  {
   "cell_type": "code",
   "execution_count": 44,
   "metadata": {},
   "outputs": [],
   "source": [
    "lang_df = make_df(LANGUAGE, random_dict)\n",
    "lang_csv_df = pd.DataFrame(data=lang_df)"
   ]
  },
  {
   "cell_type": "code",
   "execution_count": 45,
   "metadata": {},
   "outputs": [],
   "source": [
    "vis_lang_df = make_df(VIS_LANG, random_dict)\n",
    "vis_lang_csv_df = pd.DataFrame(data=vis_lang_df)"
   ]
  },
  {
   "cell_type": "code",
   "execution_count": 61,
   "metadata": {},
   "outputs": [],
   "source": [
    "vis_csv_df['Model'] = 'VISUAL'\n",
    "lang_csv_df['Model'] = 'LANGUAGE'\n",
    "vis_lang_csv_df['Model'] = 'VIS_LANG'"
   ]
  },
  {
   "cell_type": "code",
   "execution_count": 62,
   "metadata": {},
   "outputs": [
    {
     "data": {
      "text/plain": [
       "(50, 3)"
      ]
     },
     "execution_count": 62,
     "metadata": {},
     "output_type": "execute_result"
    }
   ],
   "source": [
    "vis_csv_df.shape"
   ]
  },
  {
   "cell_type": "code",
   "execution_count": 63,
   "metadata": {},
   "outputs": [
    {
     "data": {
      "text/plain": [
       "(50, 3)"
      ]
     },
     "execution_count": 63,
     "metadata": {},
     "output_type": "execute_result"
    }
   ],
   "source": [
    "lang_csv_df.shape"
   ]
  },
  {
   "cell_type": "code",
   "execution_count": 64,
   "metadata": {},
   "outputs": [
    {
     "data": {
      "text/plain": [
       "(50, 3)"
      ]
     },
     "execution_count": 64,
     "metadata": {},
     "output_type": "execute_result"
    }
   ],
   "source": [
    "vis_lang_csv_df.shape"
   ]
  },
  {
   "cell_type": "code",
   "execution_count": 65,
   "metadata": {},
   "outputs": [],
   "source": [
    "final_concat = pd.concat([vis_csv_df, lang_csv_df, vis_lang_csv_df])"
   ]
  },
  {
   "cell_type": "code",
   "execution_count": 66,
   "metadata": {},
   "outputs": [
    {
     "data": {
      "text/plain": [
       "(150, 3)"
      ]
     },
     "execution_count": 66,
     "metadata": {},
     "output_type": "execute_result"
    }
   ],
   "source": [
    "final_concat.shape"
   ]
  },
  {
   "cell_type": "code",
   "execution_count": 67,
   "metadata": {},
   "outputs": [],
   "source": [
    "final_concat.to_csv('./df_max_pool.csv', index=False)"
   ]
  },
  {
   "cell_type": "code",
   "execution_count": 68,
   "metadata": {},
   "outputs": [
    {
     "data": {
      "text/plain": [
       "(150, 3)"
      ]
     },
     "execution_count": 68,
     "metadata": {},
     "output_type": "execute_result"
    }
   ],
   "source": [
    "final_concat.shape"
   ]
  },
  {
   "cell_type": "code",
   "execution_count": 74,
   "metadata": {},
   "outputs": [
    {
     "data": {
      "text/html": [
       "<div>\n",
       "<style scoped>\n",
       "    .dataframe tbody tr th:only-of-type {\n",
       "        vertical-align: middle;\n",
       "    }\n",
       "\n",
       "    .dataframe tbody tr th {\n",
       "        vertical-align: top;\n",
       "    }\n",
       "\n",
       "    .dataframe thead th {\n",
       "        text-align: right;\n",
       "    }\n",
       "</style>\n",
       "<table border=\"1\" class=\"dataframe\">\n",
       "  <thead>\n",
       "    <tr style=\"text-align: right;\">\n",
       "      <th></th>\n",
       "      <th>Image</th>\n",
       "      <th>Paragraph</th>\n",
       "      <th>Model</th>\n",
       "    </tr>\n",
       "  </thead>\n",
       "  <tbody>\n",
       "    <tr>\n",
       "      <th>0</th>\n",
       "      <td>https://cs.stanford.edu/people/rak248/VG_100K/...</td>\n",
       "      <td>a plane is on a runway. the sky is very cloudy...</td>\n",
       "      <td>VISUAL</td>\n",
       "    </tr>\n",
       "    <tr>\n",
       "      <th>1</th>\n",
       "      <td>https://cs.stanford.edu/people/rak248/VG_100K/...</td>\n",
       "      <td>a man is standing on a beach. he is wearing a ...</td>\n",
       "      <td>VISUAL</td>\n",
       "    </tr>\n",
       "    <tr>\n",
       "      <th>2</th>\n",
       "      <td>https://cs.stanford.edu/people/rak248/VG_100K_...</td>\n",
       "      <td>a man is skiing on a hill. the man is wearing ...</td>\n",
       "      <td>VISUAL</td>\n",
       "    </tr>\n",
       "    <tr>\n",
       "      <th>3</th>\n",
       "      <td>https://cs.stanford.edu/people/rak248/VG_100K/...</td>\n",
       "      <td>a plane is on a runway. the airplane is blue a...</td>\n",
       "      <td>VISUAL</td>\n",
       "    </tr>\n",
       "    <tr>\n",
       "      <th>4</th>\n",
       "      <td>https://cs.stanford.edu/people/rak248/VG_100K/...</td>\n",
       "      <td>a woman is standing on a tennis court. she is ...</td>\n",
       "      <td>VISUAL</td>\n",
       "    </tr>\n",
       "    <tr>\n",
       "      <th>...</th>\n",
       "      <td>...</td>\n",
       "      <td>...</td>\n",
       "      <td>...</td>\n",
       "    </tr>\n",
       "    <tr>\n",
       "      <th>45</th>\n",
       "      <td>https://cs.stanford.edu/people/rak248/VG_100K_...</td>\n",
       "      <td>a man is standing on the ground. the man is we...</td>\n",
       "      <td>VIS_LANG</td>\n",
       "    </tr>\n",
       "    <tr>\n",
       "      <th>46</th>\n",
       "      <td>https://cs.stanford.edu/people/rak248/VG_100K_...</td>\n",
       "      <td>there are two zebras standing on the ground. t...</td>\n",
       "      <td>VIS_LANG</td>\n",
       "    </tr>\n",
       "    <tr>\n",
       "      <th>47</th>\n",
       "      <td>https://cs.stanford.edu/people/rak248/VG_100K_...</td>\n",
       "      <td>there is a giraffe standing in a field. there ...</td>\n",
       "      <td>VIS_LANG</td>\n",
       "    </tr>\n",
       "    <tr>\n",
       "      <th>48</th>\n",
       "      <td>https://cs.stanford.edu/people/rak248/VG_100K/...</td>\n",
       "      <td>a woman is walking on the sidewalk. the woman ...</td>\n",
       "      <td>VIS_LANG</td>\n",
       "    </tr>\n",
       "    <tr>\n",
       "      <th>49</th>\n",
       "      <td>https://cs.stanford.edu/people/rak248/VG_100K/...</td>\n",
       "      <td>the image is of a city street. the street is m...</td>\n",
       "      <td>VIS_LANG</td>\n",
       "    </tr>\n",
       "  </tbody>\n",
       "</table>\n",
       "<p>150 rows × 3 columns</p>\n",
       "</div>"
      ],
      "text/plain": [
       "                                                Image  \\\n",
       "0   https://cs.stanford.edu/people/rak248/VG_100K/...   \n",
       "1   https://cs.stanford.edu/people/rak248/VG_100K/...   \n",
       "2   https://cs.stanford.edu/people/rak248/VG_100K_...   \n",
       "3   https://cs.stanford.edu/people/rak248/VG_100K/...   \n",
       "4   https://cs.stanford.edu/people/rak248/VG_100K/...   \n",
       "..                                                ...   \n",
       "45  https://cs.stanford.edu/people/rak248/VG_100K_...   \n",
       "46  https://cs.stanford.edu/people/rak248/VG_100K_...   \n",
       "47  https://cs.stanford.edu/people/rak248/VG_100K_...   \n",
       "48  https://cs.stanford.edu/people/rak248/VG_100K/...   \n",
       "49  https://cs.stanford.edu/people/rak248/VG_100K/...   \n",
       "\n",
       "                                            Paragraph     Model  \n",
       "0   a plane is on a runway. the sky is very cloudy...    VISUAL  \n",
       "1   a man is standing on a beach. he is wearing a ...    VISUAL  \n",
       "2   a man is skiing on a hill. the man is wearing ...    VISUAL  \n",
       "3   a plane is on a runway. the airplane is blue a...    VISUAL  \n",
       "4   a woman is standing on a tennis court. she is ...    VISUAL  \n",
       "..                                                ...       ...  \n",
       "45  a man is standing on the ground. the man is we...  VIS_LANG  \n",
       "46  there are two zebras standing on the ground. t...  VIS_LANG  \n",
       "47  there is a giraffe standing in a field. there ...  VIS_LANG  \n",
       "48  a woman is walking on the sidewalk. the woman ...  VIS_LANG  \n",
       "49  the image is of a city street. the street is m...  VIS_LANG  \n",
       "\n",
       "[150 rows x 3 columns]"
      ]
     },
     "execution_count": 74,
     "metadata": {},
     "output_type": "execute_result"
    }
   ],
   "source": [
    "final_concat"
   ]
  },
  {
   "cell_type": "code",
   "execution_count": 131,
   "metadata": {},
   "outputs": [],
   "source": [
    "# results for VIS, LANG, VIS + LANG\n",
    "import pandas as pd\n",
    "res_df = pd.read_csv('results_TEST/Batch_4155507_batch_results.csv')"
   ]
  },
  {
   "cell_type": "code",
   "execution_count": 132,
   "metadata": {},
   "outputs": [
    {
     "data": {
      "text/plain": [
       "Index(['HITId', 'HITTypeId', 'Title', 'Description', 'Keywords', 'Reward',\n",
       "       'CreationTime', 'MaxAssignments', 'RequesterAnnotation',\n",
       "       'AssignmentDurationInSeconds', 'AutoApprovalDelayInSeconds',\n",
       "       'Expiration', 'NumberOfSimilarHITs', 'LifetimeInSeconds',\n",
       "       'AssignmentId', 'WorkerId', 'AssignmentStatus', 'AcceptTime',\n",
       "       'SubmitTime', 'AutoApprovalTime', 'ApprovalTime', 'RejectionTime',\n",
       "       'RequesterFeedback', 'WorkTimeInSeconds', 'LifetimeApprovalRate',\n",
       "       'Last30DaysApprovalRate', 'Last7DaysApprovalRate', 'Input.Image',\n",
       "       'Input.Paragraph', 'Input.Model', 'Answer.objSalience_LANGUAGE',\n",
       "       'Answer.objSalience_VISUAL', 'Answer.objSalience_VIS_LANG',\n",
       "       'Answer.parCoherence_LANGUAGE', 'Answer.parCoherence_VISUAL',\n",
       "       'Answer.parCoherence_VIS_LANG', 'Answer.sentStructure_LANGUAGE',\n",
       "       'Answer.sentStructure_VISUAL', 'Answer.sentStructure_VIS_LANG',\n",
       "       'Answer.wordChoice_LANGUAGE', 'Answer.wordChoice_VISUAL',\n",
       "       'Answer.wordChoice_VIS_LANG', 'Approve', 'Reject'],\n",
       "      dtype='object')"
      ]
     },
     "execution_count": 132,
     "metadata": {},
     "output_type": "execute_result"
    }
   ],
   "source": [
    "res_df.columns"
   ]
  },
  {
   "cell_type": "code",
   "execution_count": 133,
   "metadata": {},
   "outputs": [],
   "source": [
    "res_df = res_df[['Input.Image',\n",
    "       'Input.Paragraph', 'Input.Model', 'Answer.objSalience_LANGUAGE',\n",
    "       'Answer.objSalience_VISUAL', 'Answer.objSalience_VIS_LANG',\n",
    "       'Answer.parCoherence_LANGUAGE', 'Answer.parCoherence_VISUAL',\n",
    "       'Answer.parCoherence_VIS_LANG', 'Answer.sentStructure_LANGUAGE',\n",
    "       'Answer.sentStructure_VISUAL', 'Answer.sentStructure_VIS_LANG',\n",
    "       'Answer.wordChoice_LANGUAGE', 'Answer.wordChoice_VISUAL',\n",
    "       'Answer.wordChoice_VIS_LANG']]"
   ]
  },
  {
   "cell_type": "code",
   "execution_count": 134,
   "metadata": {},
   "outputs": [],
   "source": [
    "res_df_vis = res_df[['Input.Image',\n",
    "       'Input.Paragraph', 'Input.Model',\n",
    "       'Answer.objSalience_VISUAL', 'Answer.parCoherence_VISUAL',\n",
    "       'Answer.sentStructure_VISUAL','Answer.wordChoice_VISUAL']]\n",
    "res_df_vis = res_df_vis[res_df_vis['Input.Model'] == 'VISUAL']\n",
    "\n",
    "res_df_lang = res_df[['Input.Image',\n",
    "       'Input.Paragraph', 'Input.Model',\n",
    "       'Answer.objSalience_LANGUAGE', 'Answer.parCoherence_LANGUAGE',\n",
    "       'Answer.sentStructure_LANGUAGE','Answer.wordChoice_LANGUAGE']]\n",
    "res_df_lang = res_df_lang[res_df_lang['Input.Model'] == 'LANGUAGE']\n",
    "\n",
    "res_df_vis_lang = res_df[['Input.Image',\n",
    "       'Input.Paragraph', 'Input.Model',\n",
    "       'Answer.objSalience_VIS_LANG', 'Answer.parCoherence_VIS_LANG',\n",
    "       'Answer.sentStructure_VIS_LANG','Answer.wordChoice_VIS_LANG']]\n",
    "res_df_vis_lang = res_df_vis_lang[res_df_vis_lang['Input.Model'] == 'VIS_LANG']"
   ]
  },
  {
   "cell_type": "code",
   "execution_count": 135,
   "metadata": {},
   "outputs": [
    {
     "data": {
      "text/plain": [
       "(50, 7)"
      ]
     },
     "execution_count": 135,
     "metadata": {},
     "output_type": "execute_result"
    }
   ],
   "source": [
    "res_df_vis.shape"
   ]
  },
  {
   "cell_type": "code",
   "execution_count": 136,
   "metadata": {},
   "outputs": [
    {
     "data": {
      "text/plain": [
       "(50, 7)"
      ]
     },
     "execution_count": 136,
     "metadata": {},
     "output_type": "execute_result"
    }
   ],
   "source": [
    "res_df_lang.shape"
   ]
  },
  {
   "cell_type": "code",
   "execution_count": 137,
   "metadata": {},
   "outputs": [
    {
     "data": {
      "text/plain": [
       "(50, 7)"
      ]
     },
     "execution_count": 137,
     "metadata": {},
     "output_type": "execute_result"
    }
   ],
   "source": [
    "res_df_vis_lang.shape"
   ]
  },
  {
   "cell_type": "code",
   "execution_count": 138,
   "metadata": {},
   "outputs": [
    {
     "name": "stdout",
     "output_type": "stream",
     "text": [
      "38.12\n",
      "46.1\n",
      "42.84\n",
      "39.06\n"
     ]
    }
   ],
   "source": [
    "print(res_df_vis['Answer.wordChoice_VISUAL'].mean())\n",
    "print(res_df_vis['Answer.objSalience_VISUAL'].mean())\n",
    "print(res_df_vis['Answer.sentStructure_VISUAL'].mean())\n",
    "print(res_df_vis['Answer.parCoherence_VISUAL'].mean())"
   ]
  },
  {
   "cell_type": "code",
   "execution_count": 139,
   "metadata": {},
   "outputs": [
    {
     "name": "stdout",
     "output_type": "stream",
     "text": [
      "34.52\n",
      "41.38\n",
      "48.38\n",
      "40.5\n"
     ]
    }
   ],
   "source": [
    "print(res_df_lang['Answer.wordChoice_LANGUAGE'].mean())\n",
    "print(res_df_lang['Answer.objSalience_LANGUAGE'].mean())\n",
    "print(res_df_lang['Answer.sentStructure_LANGUAGE'].mean())\n",
    "print(res_df_lang['Answer.parCoherence_LANGUAGE'].mean())"
   ]
  },
  {
   "cell_type": "code",
   "execution_count": 140,
   "metadata": {},
   "outputs": [
    {
     "name": "stdout",
     "output_type": "stream",
     "text": [
      "42.22\n",
      "48.32\n",
      "52.88\n",
      "49.04\n"
     ]
    }
   ],
   "source": [
    "print(res_df_vis_lang['Answer.wordChoice_VIS_LANG'].mean())\n",
    "print(res_df_vis_lang['Answer.objSalience_VIS_LANG'].mean())\n",
    "print(res_df_vis_lang['Answer.sentStructure_VIS_LANG'].mean())\n",
    "print(res_df_vis_lang['Answer.parCoherence_VIS_LANG'].mean())"
   ]
  },
  {
   "cell_type": "code",
   "execution_count": 143,
   "metadata": {},
   "outputs": [],
   "source": [
    "# count workers\n",
    "worker_df = pd.read_csv('results_TEST/Batch_4155507_batch_results.csv')"
   ]
  },
  {
   "cell_type": "code",
   "execution_count": 144,
   "metadata": {},
   "outputs": [
    {
     "data": {
      "text/html": [
       "<div>\n",
       "<style scoped>\n",
       "    .dataframe tbody tr th:only-of-type {\n",
       "        vertical-align: middle;\n",
       "    }\n",
       "\n",
       "    .dataframe tbody tr th {\n",
       "        vertical-align: top;\n",
       "    }\n",
       "\n",
       "    .dataframe thead th {\n",
       "        text-align: right;\n",
       "    }\n",
       "</style>\n",
       "<table border=\"1\" class=\"dataframe\">\n",
       "  <thead>\n",
       "    <tr style=\"text-align: right;\">\n",
       "      <th></th>\n",
       "      <th>HITId</th>\n",
       "      <th>HITTypeId</th>\n",
       "      <th>Title</th>\n",
       "      <th>Description</th>\n",
       "      <th>Keywords</th>\n",
       "      <th>Reward</th>\n",
       "      <th>CreationTime</th>\n",
       "      <th>MaxAssignments</th>\n",
       "      <th>RequesterAnnotation</th>\n",
       "      <th>AssignmentDurationInSeconds</th>\n",
       "      <th>...</th>\n",
       "      <th>Answer.parCoherence_VISUAL</th>\n",
       "      <th>Answer.parCoherence_VIS_LANG</th>\n",
       "      <th>Answer.sentStructure_LANGUAGE</th>\n",
       "      <th>Answer.sentStructure_VISUAL</th>\n",
       "      <th>Answer.sentStructure_VIS_LANG</th>\n",
       "      <th>Answer.wordChoice_LANGUAGE</th>\n",
       "      <th>Answer.wordChoice_VISUAL</th>\n",
       "      <th>Answer.wordChoice_VIS_LANG</th>\n",
       "      <th>Approve</th>\n",
       "      <th>Reject</th>\n",
       "    </tr>\n",
       "    <tr>\n",
       "      <th>WorkerId</th>\n",
       "      <th></th>\n",
       "      <th></th>\n",
       "      <th></th>\n",
       "      <th></th>\n",
       "      <th></th>\n",
       "      <th></th>\n",
       "      <th></th>\n",
       "      <th></th>\n",
       "      <th></th>\n",
       "      <th></th>\n",
       "      <th></th>\n",
       "      <th></th>\n",
       "      <th></th>\n",
       "      <th></th>\n",
       "      <th></th>\n",
       "      <th></th>\n",
       "      <th></th>\n",
       "      <th></th>\n",
       "      <th></th>\n",
       "      <th></th>\n",
       "      <th></th>\n",
       "    </tr>\n",
       "  </thead>\n",
       "  <tbody>\n",
       "    <tr>\n",
       "      <th>A1EUBMQ86K32XE</th>\n",
       "      <td>1</td>\n",
       "      <td>1</td>\n",
       "      <td>1</td>\n",
       "      <td>1</td>\n",
       "      <td>1</td>\n",
       "      <td>1</td>\n",
       "      <td>1</td>\n",
       "      <td>1</td>\n",
       "      <td>1</td>\n",
       "      <td>1</td>\n",
       "      <td>...</td>\n",
       "      <td>0</td>\n",
       "      <td>0</td>\n",
       "      <td>1</td>\n",
       "      <td>0</td>\n",
       "      <td>0</td>\n",
       "      <td>1</td>\n",
       "      <td>0</td>\n",
       "      <td>0</td>\n",
       "      <td>0</td>\n",
       "      <td>0</td>\n",
       "    </tr>\n",
       "    <tr>\n",
       "      <th>A22VLXXVIEJSD1</th>\n",
       "      <td>1</td>\n",
       "      <td>1</td>\n",
       "      <td>1</td>\n",
       "      <td>1</td>\n",
       "      <td>1</td>\n",
       "      <td>1</td>\n",
       "      <td>1</td>\n",
       "      <td>1</td>\n",
       "      <td>1</td>\n",
       "      <td>1</td>\n",
       "      <td>...</td>\n",
       "      <td>0</td>\n",
       "      <td>0</td>\n",
       "      <td>1</td>\n",
       "      <td>0</td>\n",
       "      <td>0</td>\n",
       "      <td>1</td>\n",
       "      <td>0</td>\n",
       "      <td>0</td>\n",
       "      <td>0</td>\n",
       "      <td>0</td>\n",
       "    </tr>\n",
       "    <tr>\n",
       "      <th>A27SMEOPKV84VI</th>\n",
       "      <td>3</td>\n",
       "      <td>3</td>\n",
       "      <td>3</td>\n",
       "      <td>3</td>\n",
       "      <td>3</td>\n",
       "      <td>3</td>\n",
       "      <td>3</td>\n",
       "      <td>3</td>\n",
       "      <td>3</td>\n",
       "      <td>3</td>\n",
       "      <td>...</td>\n",
       "      <td>1</td>\n",
       "      <td>1</td>\n",
       "      <td>1</td>\n",
       "      <td>1</td>\n",
       "      <td>1</td>\n",
       "      <td>1</td>\n",
       "      <td>1</td>\n",
       "      <td>1</td>\n",
       "      <td>0</td>\n",
       "      <td>0</td>\n",
       "    </tr>\n",
       "    <tr>\n",
       "      <th>A28L1K6D8QUCML</th>\n",
       "      <td>12</td>\n",
       "      <td>12</td>\n",
       "      <td>12</td>\n",
       "      <td>12</td>\n",
       "      <td>12</td>\n",
       "      <td>12</td>\n",
       "      <td>12</td>\n",
       "      <td>12</td>\n",
       "      <td>12</td>\n",
       "      <td>12</td>\n",
       "      <td>...</td>\n",
       "      <td>5</td>\n",
       "      <td>6</td>\n",
       "      <td>1</td>\n",
       "      <td>5</td>\n",
       "      <td>6</td>\n",
       "      <td>1</td>\n",
       "      <td>5</td>\n",
       "      <td>6</td>\n",
       "      <td>0</td>\n",
       "      <td>0</td>\n",
       "    </tr>\n",
       "    <tr>\n",
       "      <th>A3BI0AX5T5GVO3</th>\n",
       "      <td>129</td>\n",
       "      <td>129</td>\n",
       "      <td>129</td>\n",
       "      <td>129</td>\n",
       "      <td>129</td>\n",
       "      <td>129</td>\n",
       "      <td>129</td>\n",
       "      <td>129</td>\n",
       "      <td>129</td>\n",
       "      <td>129</td>\n",
       "      <td>...</td>\n",
       "      <td>43</td>\n",
       "      <td>41</td>\n",
       "      <td>45</td>\n",
       "      <td>43</td>\n",
       "      <td>41</td>\n",
       "      <td>45</td>\n",
       "      <td>43</td>\n",
       "      <td>41</td>\n",
       "      <td>0</td>\n",
       "      <td>0</td>\n",
       "    </tr>\n",
       "    <tr>\n",
       "      <th>A3MS21UJPMHLK0</th>\n",
       "      <td>1</td>\n",
       "      <td>1</td>\n",
       "      <td>1</td>\n",
       "      <td>1</td>\n",
       "      <td>1</td>\n",
       "      <td>1</td>\n",
       "      <td>1</td>\n",
       "      <td>1</td>\n",
       "      <td>1</td>\n",
       "      <td>1</td>\n",
       "      <td>...</td>\n",
       "      <td>0</td>\n",
       "      <td>1</td>\n",
       "      <td>0</td>\n",
       "      <td>0</td>\n",
       "      <td>1</td>\n",
       "      <td>0</td>\n",
       "      <td>0</td>\n",
       "      <td>1</td>\n",
       "      <td>0</td>\n",
       "      <td>0</td>\n",
       "    </tr>\n",
       "    <tr>\n",
       "      <th>A3OLRWACCCCUTU</th>\n",
       "      <td>1</td>\n",
       "      <td>1</td>\n",
       "      <td>1</td>\n",
       "      <td>1</td>\n",
       "      <td>1</td>\n",
       "      <td>1</td>\n",
       "      <td>1</td>\n",
       "      <td>1</td>\n",
       "      <td>1</td>\n",
       "      <td>1</td>\n",
       "      <td>...</td>\n",
       "      <td>0</td>\n",
       "      <td>0</td>\n",
       "      <td>1</td>\n",
       "      <td>0</td>\n",
       "      <td>0</td>\n",
       "      <td>1</td>\n",
       "      <td>0</td>\n",
       "      <td>0</td>\n",
       "      <td>0</td>\n",
       "      <td>0</td>\n",
       "    </tr>\n",
       "    <tr>\n",
       "      <th>AKSJ3C5O3V9RB</th>\n",
       "      <td>1</td>\n",
       "      <td>1</td>\n",
       "      <td>1</td>\n",
       "      <td>1</td>\n",
       "      <td>1</td>\n",
       "      <td>1</td>\n",
       "      <td>1</td>\n",
       "      <td>1</td>\n",
       "      <td>1</td>\n",
       "      <td>1</td>\n",
       "      <td>...</td>\n",
       "      <td>0</td>\n",
       "      <td>1</td>\n",
       "      <td>0</td>\n",
       "      <td>0</td>\n",
       "      <td>1</td>\n",
       "      <td>0</td>\n",
       "      <td>0</td>\n",
       "      <td>1</td>\n",
       "      <td>0</td>\n",
       "      <td>0</td>\n",
       "    </tr>\n",
       "    <tr>\n",
       "      <th>AMA18W8F60Y2J</th>\n",
       "      <td>1</td>\n",
       "      <td>1</td>\n",
       "      <td>1</td>\n",
       "      <td>1</td>\n",
       "      <td>1</td>\n",
       "      <td>1</td>\n",
       "      <td>1</td>\n",
       "      <td>1</td>\n",
       "      <td>1</td>\n",
       "      <td>1</td>\n",
       "      <td>...</td>\n",
       "      <td>1</td>\n",
       "      <td>0</td>\n",
       "      <td>0</td>\n",
       "      <td>1</td>\n",
       "      <td>0</td>\n",
       "      <td>0</td>\n",
       "      <td>1</td>\n",
       "      <td>0</td>\n",
       "      <td>0</td>\n",
       "      <td>0</td>\n",
       "    </tr>\n",
       "  </tbody>\n",
       "</table>\n",
       "<p>9 rows × 43 columns</p>\n",
       "</div>"
      ],
      "text/plain": [
       "                HITId  HITTypeId  Title  Description  Keywords  Reward  \\\n",
       "WorkerId                                                                 \n",
       "A1EUBMQ86K32XE      1          1      1            1         1       1   \n",
       "A22VLXXVIEJSD1      1          1      1            1         1       1   \n",
       "A27SMEOPKV84VI      3          3      3            3         3       3   \n",
       "A28L1K6D8QUCML     12         12     12           12        12      12   \n",
       "A3BI0AX5T5GVO3    129        129    129          129       129     129   \n",
       "A3MS21UJPMHLK0      1          1      1            1         1       1   \n",
       "A3OLRWACCCCUTU      1          1      1            1         1       1   \n",
       "AKSJ3C5O3V9RB       1          1      1            1         1       1   \n",
       "AMA18W8F60Y2J       1          1      1            1         1       1   \n",
       "\n",
       "                CreationTime  MaxAssignments  RequesterAnnotation  \\\n",
       "WorkerId                                                            \n",
       "A1EUBMQ86K32XE             1               1                    1   \n",
       "A22VLXXVIEJSD1             1               1                    1   \n",
       "A27SMEOPKV84VI             3               3                    3   \n",
       "A28L1K6D8QUCML            12              12                   12   \n",
       "A3BI0AX5T5GVO3           129             129                  129   \n",
       "A3MS21UJPMHLK0             1               1                    1   \n",
       "A3OLRWACCCCUTU             1               1                    1   \n",
       "AKSJ3C5O3V9RB              1               1                    1   \n",
       "AMA18W8F60Y2J              1               1                    1   \n",
       "\n",
       "                AssignmentDurationInSeconds  ...  Answer.parCoherence_VISUAL  \\\n",
       "WorkerId                                     ...                               \n",
       "A1EUBMQ86K32XE                            1  ...                           0   \n",
       "A22VLXXVIEJSD1                            1  ...                           0   \n",
       "A27SMEOPKV84VI                            3  ...                           1   \n",
       "A28L1K6D8QUCML                           12  ...                           5   \n",
       "A3BI0AX5T5GVO3                          129  ...                          43   \n",
       "A3MS21UJPMHLK0                            1  ...                           0   \n",
       "A3OLRWACCCCUTU                            1  ...                           0   \n",
       "AKSJ3C5O3V9RB                             1  ...                           0   \n",
       "AMA18W8F60Y2J                             1  ...                           1   \n",
       "\n",
       "                Answer.parCoherence_VIS_LANG  Answer.sentStructure_LANGUAGE  \\\n",
       "WorkerId                                                                      \n",
       "A1EUBMQ86K32XE                             0                              1   \n",
       "A22VLXXVIEJSD1                             0                              1   \n",
       "A27SMEOPKV84VI                             1                              1   \n",
       "A28L1K6D8QUCML                             6                              1   \n",
       "A3BI0AX5T5GVO3                            41                             45   \n",
       "A3MS21UJPMHLK0                             1                              0   \n",
       "A3OLRWACCCCUTU                             0                              1   \n",
       "AKSJ3C5O3V9RB                              1                              0   \n",
       "AMA18W8F60Y2J                              0                              0   \n",
       "\n",
       "                Answer.sentStructure_VISUAL  Answer.sentStructure_VIS_LANG  \\\n",
       "WorkerId                                                                     \n",
       "A1EUBMQ86K32XE                            0                              0   \n",
       "A22VLXXVIEJSD1                            0                              0   \n",
       "A27SMEOPKV84VI                            1                              1   \n",
       "A28L1K6D8QUCML                            5                              6   \n",
       "A3BI0AX5T5GVO3                           43                             41   \n",
       "A3MS21UJPMHLK0                            0                              1   \n",
       "A3OLRWACCCCUTU                            0                              0   \n",
       "AKSJ3C5O3V9RB                             0                              1   \n",
       "AMA18W8F60Y2J                             1                              0   \n",
       "\n",
       "                Answer.wordChoice_LANGUAGE  Answer.wordChoice_VISUAL  \\\n",
       "WorkerId                                                               \n",
       "A1EUBMQ86K32XE                           1                         0   \n",
       "A22VLXXVIEJSD1                           1                         0   \n",
       "A27SMEOPKV84VI                           1                         1   \n",
       "A28L1K6D8QUCML                           1                         5   \n",
       "A3BI0AX5T5GVO3                          45                        43   \n",
       "A3MS21UJPMHLK0                           0                         0   \n",
       "A3OLRWACCCCUTU                           1                         0   \n",
       "AKSJ3C5O3V9RB                            0                         0   \n",
       "AMA18W8F60Y2J                            0                         1   \n",
       "\n",
       "                Answer.wordChoice_VIS_LANG  Approve  Reject  \n",
       "WorkerId                                                     \n",
       "A1EUBMQ86K32XE                           0        0       0  \n",
       "A22VLXXVIEJSD1                           0        0       0  \n",
       "A27SMEOPKV84VI                           1        0       0  \n",
       "A28L1K6D8QUCML                           6        0       0  \n",
       "A3BI0AX5T5GVO3                          41        0       0  \n",
       "A3MS21UJPMHLK0                           1        0       0  \n",
       "A3OLRWACCCCUTU                           0        0       0  \n",
       "AKSJ3C5O3V9RB                            1        0       0  \n",
       "AMA18W8F60Y2J                            0        0       0  \n",
       "\n",
       "[9 rows x 43 columns]"
      ]
     },
     "execution_count": 144,
     "metadata": {},
     "output_type": "execute_result"
    }
   ],
   "source": [
    "worker_df.groupby('WorkerId').count()"
   ]
  },
  {
   "cell_type": "code",
   "execution_count": 145,
   "metadata": {},
   "outputs": [
    {
     "data": {
      "text/plain": [
       "Index(['HITId', 'HITTypeId', 'Title', 'Description', 'Keywords', 'Reward',\n",
       "       'CreationTime', 'MaxAssignments', 'RequesterAnnotation',\n",
       "       'AssignmentDurationInSeconds', 'AutoApprovalDelayInSeconds',\n",
       "       'Expiration', 'NumberOfSimilarHITs', 'LifetimeInSeconds',\n",
       "       'AssignmentId', 'WorkerId', 'AssignmentStatus', 'AcceptTime',\n",
       "       'SubmitTime', 'AutoApprovalTime', 'ApprovalTime', 'RejectionTime',\n",
       "       'RequesterFeedback', 'WorkTimeInSeconds', 'LifetimeApprovalRate',\n",
       "       'Last30DaysApprovalRate', 'Last7DaysApprovalRate', 'Input.Image',\n",
       "       'Input.Paragraph', 'Input.Model', 'Answer.objSalience_LANGUAGE',\n",
       "       'Answer.objSalience_VISUAL', 'Answer.objSalience_VIS_LANG',\n",
       "       'Answer.parCoherence_LANGUAGE', 'Answer.parCoherence_VISUAL',\n",
       "       'Answer.parCoherence_VIS_LANG', 'Answer.sentStructure_LANGUAGE',\n",
       "       'Answer.sentStructure_VISUAL', 'Answer.sentStructure_VIS_LANG',\n",
       "       'Answer.wordChoice_LANGUAGE', 'Answer.wordChoice_VISUAL',\n",
       "       'Answer.wordChoice_VIS_LANG', 'Approve', 'Reject'],\n",
       "      dtype='object')"
      ]
     },
     "execution_count": 145,
     "metadata": {},
     "output_type": "execute_result"
    }
   ],
   "source": [
    "worker_df.columns"
   ]
  },
  {
   "cell_type": "code",
   "execution_count": 146,
   "metadata": {},
   "outputs": [
    {
     "data": {
      "text/plain": [
       "424.02666666666664"
      ]
     },
     "execution_count": 146,
     "metadata": {},
     "output_type": "execute_result"
    }
   ],
   "source": [
    "worker_df['WorkTimeInSeconds'].mean()\n",
    "# 7 minutes per task (?), quite a lot..."
   ]
  },
  {
   "cell_type": "code",
   "execution_count": 147,
   "metadata": {},
   "outputs": [],
   "source": [
    "timings = worker_df[['AcceptTime', 'SubmitTime']]"
   ]
  },
  {
   "cell_type": "code",
   "execution_count": 148,
   "metadata": {},
   "outputs": [
    {
     "data": {
      "text/html": [
       "<div>\n",
       "<style scoped>\n",
       "    .dataframe tbody tr th:only-of-type {\n",
       "        vertical-align: middle;\n",
       "    }\n",
       "\n",
       "    .dataframe tbody tr th {\n",
       "        vertical-align: top;\n",
       "    }\n",
       "\n",
       "    .dataframe thead th {\n",
       "        text-align: right;\n",
       "    }\n",
       "</style>\n",
       "<table border=\"1\" class=\"dataframe\">\n",
       "  <thead>\n",
       "    <tr style=\"text-align: right;\">\n",
       "      <th></th>\n",
       "      <th>AcceptTime</th>\n",
       "      <th>SubmitTime</th>\n",
       "    </tr>\n",
       "  </thead>\n",
       "  <tbody>\n",
       "    <tr>\n",
       "      <th>0</th>\n",
       "      <td>Tue Aug 18 05:12:02 PDT 2020</td>\n",
       "      <td>Tue Aug 18 05:12:47 PDT 2020</td>\n",
       "    </tr>\n",
       "    <tr>\n",
       "      <th>1</th>\n",
       "      <td>Tue Aug 18 06:46:08 PDT 2020</td>\n",
       "      <td>Tue Aug 18 06:51:26 PDT 2020</td>\n",
       "    </tr>\n",
       "    <tr>\n",
       "      <th>2</th>\n",
       "      <td>Tue Aug 18 06:09:32 PDT 2020</td>\n",
       "      <td>Tue Aug 18 06:12:55 PDT 2020</td>\n",
       "    </tr>\n",
       "    <tr>\n",
       "      <th>3</th>\n",
       "      <td>Tue Aug 18 06:25:50 PDT 2020</td>\n",
       "      <td>Tue Aug 18 06:44:39 PDT 2020</td>\n",
       "    </tr>\n",
       "    <tr>\n",
       "      <th>4</th>\n",
       "      <td>Tue Aug 18 06:45:20 PDT 2020</td>\n",
       "      <td>Tue Aug 18 06:50:40 PDT 2020</td>\n",
       "    </tr>\n",
       "  </tbody>\n",
       "</table>\n",
       "</div>"
      ],
      "text/plain": [
       "                     AcceptTime                    SubmitTime\n",
       "0  Tue Aug 18 05:12:02 PDT 2020  Tue Aug 18 05:12:47 PDT 2020\n",
       "1  Tue Aug 18 06:46:08 PDT 2020  Tue Aug 18 06:51:26 PDT 2020\n",
       "2  Tue Aug 18 06:09:32 PDT 2020  Tue Aug 18 06:12:55 PDT 2020\n",
       "3  Tue Aug 18 06:25:50 PDT 2020  Tue Aug 18 06:44:39 PDT 2020\n",
       "4  Tue Aug 18 06:45:20 PDT 2020  Tue Aug 18 06:50:40 PDT 2020"
      ]
     },
     "execution_count": 148,
     "metadata": {},
     "output_type": "execute_result"
    }
   ],
   "source": [
    "timings.head()"
   ]
  },
  {
   "cell_type": "code",
   "execution_count": 149,
   "metadata": {},
   "outputs": [
    {
     "name": "stderr",
     "output_type": "stream",
     "text": [
      "/home/xilini/anaconda3/envs/vis-par/lib/python3.7/site-packages/dateutil/parser/_parser.py:1218: UnknownTimezoneWarning: tzname PDT identified but not understood.  Pass `tzinfos` argument in order to correctly return a timezone-aware datetime.  In a future version, this will raise an exception.\n",
      "  category=UnknownTimezoneWarning)\n",
      "/home/xilini/anaconda3/envs/vis-par/lib/python3.7/site-packages/pandas/core/indexing.py:1047: SettingWithCopyWarning: \n",
      "A value is trying to be set on a copy of a slice from a DataFrame.\n",
      "Try using .loc[row_indexer,col_indexer] = value instead\n",
      "\n",
      "See the caveats in the documentation: https://pandas.pydata.org/pandas-docs/stable/user_guide/indexing.html#returning-a-view-versus-a-copy\n",
      "  self.obj[item_labels[indexer[info_axis]]] = value\n",
      "/home/xilini/anaconda3/envs/vis-par/lib/python3.7/site-packages/pandas/core/indexing.py:965: SettingWithCopyWarning: \n",
      "A value is trying to be set on a copy of a slice from a DataFrame.\n",
      "Try using .loc[row_indexer,col_indexer] = value instead\n",
      "\n",
      "See the caveats in the documentation: https://pandas.pydata.org/pandas-docs/stable/user_guide/indexing.html#returning-a-view-versus-a-copy\n",
      "  self.obj[item] = s\n"
     ]
    }
   ],
   "source": [
    "timings.loc[:, 'AcceptTime'] = pd.to_datetime(timings['AcceptTime'])\n",
    "timings.loc[:, 'SubmitTime'] =  pd.to_datetime(timings['SubmitTime'])"
   ]
  },
  {
   "cell_type": "code",
   "execution_count": 150,
   "metadata": {},
   "outputs": [
    {
     "data": {
      "text/html": [
       "<div>\n",
       "<style scoped>\n",
       "    .dataframe tbody tr th:only-of-type {\n",
       "        vertical-align: middle;\n",
       "    }\n",
       "\n",
       "    .dataframe tbody tr th {\n",
       "        vertical-align: top;\n",
       "    }\n",
       "\n",
       "    .dataframe thead th {\n",
       "        text-align: right;\n",
       "    }\n",
       "</style>\n",
       "<table border=\"1\" class=\"dataframe\">\n",
       "  <thead>\n",
       "    <tr style=\"text-align: right;\">\n",
       "      <th></th>\n",
       "      <th>AcceptTime</th>\n",
       "      <th>SubmitTime</th>\n",
       "    </tr>\n",
       "  </thead>\n",
       "  <tbody>\n",
       "    <tr>\n",
       "      <th>0</th>\n",
       "      <td>2020-08-18 05:12:02</td>\n",
       "      <td>2020-08-18 05:12:47</td>\n",
       "    </tr>\n",
       "    <tr>\n",
       "      <th>1</th>\n",
       "      <td>2020-08-18 06:46:08</td>\n",
       "      <td>2020-08-18 06:51:26</td>\n",
       "    </tr>\n",
       "    <tr>\n",
       "      <th>2</th>\n",
       "      <td>2020-08-18 06:09:32</td>\n",
       "      <td>2020-08-18 06:12:55</td>\n",
       "    </tr>\n",
       "    <tr>\n",
       "      <th>3</th>\n",
       "      <td>2020-08-18 06:25:50</td>\n",
       "      <td>2020-08-18 06:44:39</td>\n",
       "    </tr>\n",
       "    <tr>\n",
       "      <th>4</th>\n",
       "      <td>2020-08-18 06:45:20</td>\n",
       "      <td>2020-08-18 06:50:40</td>\n",
       "    </tr>\n",
       "    <tr>\n",
       "      <th>...</th>\n",
       "      <td>...</td>\n",
       "      <td>...</td>\n",
       "    </tr>\n",
       "    <tr>\n",
       "      <th>145</th>\n",
       "      <td>2020-08-18 06:09:37</td>\n",
       "      <td>2020-08-18 06:14:02</td>\n",
       "    </tr>\n",
       "    <tr>\n",
       "      <th>146</th>\n",
       "      <td>2020-08-18 06:28:03</td>\n",
       "      <td>2020-08-18 06:45:57</td>\n",
       "    </tr>\n",
       "    <tr>\n",
       "      <th>147</th>\n",
       "      <td>2020-08-18 05:15:50</td>\n",
       "      <td>2020-08-18 05:16:29</td>\n",
       "    </tr>\n",
       "    <tr>\n",
       "      <th>148</th>\n",
       "      <td>2020-08-18 06:48:01</td>\n",
       "      <td>2020-08-18 06:55:59</td>\n",
       "    </tr>\n",
       "    <tr>\n",
       "      <th>149</th>\n",
       "      <td>2020-08-18 06:22:47</td>\n",
       "      <td>2020-08-18 06:30:59</td>\n",
       "    </tr>\n",
       "  </tbody>\n",
       "</table>\n",
       "<p>150 rows × 2 columns</p>\n",
       "</div>"
      ],
      "text/plain": [
       "             AcceptTime          SubmitTime\n",
       "0   2020-08-18 05:12:02 2020-08-18 05:12:47\n",
       "1   2020-08-18 06:46:08 2020-08-18 06:51:26\n",
       "2   2020-08-18 06:09:32 2020-08-18 06:12:55\n",
       "3   2020-08-18 06:25:50 2020-08-18 06:44:39\n",
       "4   2020-08-18 06:45:20 2020-08-18 06:50:40\n",
       "..                  ...                 ...\n",
       "145 2020-08-18 06:09:37 2020-08-18 06:14:02\n",
       "146 2020-08-18 06:28:03 2020-08-18 06:45:57\n",
       "147 2020-08-18 05:15:50 2020-08-18 05:16:29\n",
       "148 2020-08-18 06:48:01 2020-08-18 06:55:59\n",
       "149 2020-08-18 06:22:47 2020-08-18 06:30:59\n",
       "\n",
       "[150 rows x 2 columns]"
      ]
     },
     "execution_count": 150,
     "metadata": {},
     "output_type": "execute_result"
    }
   ],
   "source": [
    "timings"
   ]
  },
  {
   "cell_type": "code",
   "execution_count": 151,
   "metadata": {},
   "outputs": [
    {
     "name": "stderr",
     "output_type": "stream",
     "text": [
      "/home/xilini/anaconda3/envs/vis-par/lib/python3.7/site-packages/ipykernel_launcher.py:1: SettingWithCopyWarning: \n",
      "A value is trying to be set on a copy of a slice from a DataFrame.\n",
      "Try using .loc[row_indexer,col_indexer] = value instead\n",
      "\n",
      "See the caveats in the documentation: https://pandas.pydata.org/pandas-docs/stable/user_guide/indexing.html#returning-a-view-versus-a-copy\n",
      "  \"\"\"Entry point for launching an IPython kernel.\n"
     ]
    }
   ],
   "source": [
    "timings['diff'] = timings['SubmitTime'] - timings['AcceptTime']"
   ]
  },
  {
   "cell_type": "code",
   "execution_count": 152,
   "metadata": {},
   "outputs": [],
   "source": [
    "diff = timings['diff']"
   ]
  },
  {
   "cell_type": "code",
   "execution_count": 153,
   "metadata": {},
   "outputs": [
    {
     "data": {
      "text/plain": [
       "20.0"
      ]
     },
     "execution_count": 153,
     "metadata": {},
     "output_type": "execute_result"
    }
   ],
   "source": [
    "diff.dt.total_seconds().min()"
   ]
  },
  {
   "cell_type": "code",
   "execution_count": 154,
   "metadata": {},
   "outputs": [
    {
     "data": {
      "text/plain": [
       "1163.0"
      ]
     },
     "execution_count": 154,
     "metadata": {},
     "output_type": "execute_result"
    }
   ],
   "source": [
    "diff.dt.total_seconds().max()"
   ]
  },
  {
   "cell_type": "code",
   "execution_count": 155,
   "metadata": {},
   "outputs": [],
   "source": [
    "# run qualification thingy every 20 seconds (!)"
   ]
  },
  {
   "cell_type": "code",
   "execution_count": null,
   "metadata": {},
   "outputs": [],
   "source": []
  }
 ],
 "metadata": {
  "kernelspec": {
   "display_name": "Python 3",
   "language": "python",
   "name": "python3"
  },
  "language_info": {
   "codemirror_mode": {
    "name": "ipython",
    "version": 3
   },
   "file_extension": ".py",
   "mimetype": "text/x-python",
   "name": "python",
   "nbconvert_exporter": "python",
   "pygments_lexer": "ipython3",
   "version": "3.7.6"
  }
 },
 "nbformat": 4,
 "nbformat_minor": 4
}

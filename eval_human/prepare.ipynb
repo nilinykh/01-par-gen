{
 "cells": [
  {
   "cell_type": "code",
   "execution_count": 16,
   "metadata": {},
   "outputs": [],
   "source": [
    "import json\n",
    "\n",
    "basepath = '/home/xilini/par-gen/01-par-gen/model/scores/'\n",
    "\n",
    "with open('/home/xilini/par-gen/01-par-gen/data/dataset_paragraphs_v1.json', 'r') as s:\n",
    "    data = json.load(s)['images']\n",
    "\n",
    "with open(basepath + 'VISUAL-beam_2_cidertest.json', 'r') as f1:\n",
    "    VISUAL = json.load(f1)"
   ]
  },
  {
   "cell_type": "code",
   "execution_count": 17,
   "metadata": {},
   "outputs": [],
   "source": [
    "# construct filepath to the image (based on the Stanford servers)\n",
    "stanford_path = 'https://cs.stanford.edu/people/rak248/'\n",
    "image_loc = {}\n",
    "for item in data:\n",
    "    if item['split'] == 'test':\n",
    "        filepath = item['filepath']\n",
    "        image_id = item['stanford_par_id']\n",
    "        image_path = stanford_path + str(filepath) + '/' + str(image_id) + '.jpg'\n",
    "        image_loc[image_id] = image_path\n",
    "#with open('/home/xilini/par-gen/01-par-gen/data/stanford_loc', 'w') as st:\n",
    "#    json.dump(image_loc, st)"
   ]
  },
  {
   "cell_type": "code",
   "execution_count": 18,
   "metadata": {},
   "outputs": [],
   "source": [
    "import pandas as pd"
   ]
  },
  {
   "cell_type": "code",
   "execution_count": 11,
   "metadata": {},
   "outputs": [],
   "source": [
    "VISUAL = VISUAL[:50]"
   ]
  },
  {
   "cell_type": "code",
   "execution_count": 19,
   "metadata": {},
   "outputs": [],
   "source": [
    "csv_dict = {}\n",
    "csv_dict['Image'] = []\n",
    "csv_dict['Paragraph'] = []\n",
    "\n",
    "\n",
    "for item in VISUAL:\n",
    "    image_link = image_loc[item['image_id']]\n",
    "    hyps = item['hypotheses']\n",
    "    csv_dict['Image'].append(image_link)\n",
    "    csv_dict['Paragraph'].append(hyps)\n",
    "    #break"
   ]
  },
  {
   "cell_type": "code",
   "execution_count": 20,
   "metadata": {},
   "outputs": [],
   "source": [
    "csv_df = pd.DataFrame(data=csv_dict)"
   ]
  },
  {
   "cell_type": "code",
   "execution_count": 21,
   "metadata": {},
   "outputs": [],
   "source": [
    "csv_df.to_csv('./VISUAL_df.csv', index=False)"
   ]
  },
  {
   "cell_type": "code",
   "execution_count": 22,
   "metadata": {},
   "outputs": [
    {
     "data": {
      "text/plain": [
       "(2489, 2)"
      ]
     },
     "execution_count": 22,
     "metadata": {},
     "output_type": "execute_result"
    }
   ],
   "source": [
    "csv_df.shape"
   ]
  },
  {
   "cell_type": "code",
   "execution_count": null,
   "metadata": {},
   "outputs": [],
   "source": [
    "results_df = pd.read_csv('./Batch_290265_batch_results.csv')"
   ]
  },
  {
   "cell_type": "code",
   "execution_count": null,
   "metadata": {},
   "outputs": [],
   "source": [
    "results_df.columns"
   ]
  },
  {
   "cell_type": "code",
   "execution_count": null,
   "metadata": {},
   "outputs": [],
   "source": [
    "results_df['Answer.feedback']"
   ]
  },
  {
   "cell_type": "code",
   "execution_count": null,
   "metadata": {},
   "outputs": [],
   "source": []
  }
 ],
 "metadata": {
  "kernelspec": {
   "display_name": "Python 3",
   "language": "python",
   "name": "python3"
  },
  "language_info": {
   "codemirror_mode": {
    "name": "ipython",
    "version": 3
   },
   "file_extension": ".py",
   "mimetype": "text/x-python",
   "name": "python",
   "nbconvert_exporter": "python",
   "pygments_lexer": "ipython3",
   "version": "3.7.6"
  }
 },
 "nbformat": 4,
 "nbformat_minor": 4
}

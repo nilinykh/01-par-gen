{
 "cells": [
  {
   "cell_type": "code",
   "execution_count": 33,
   "metadata": {},
   "outputs": [],
   "source": [
    "import json\n",
    "import pandas as pd\n",
    "\n",
    "basepath = '/home/xilini/par-gen/01-par-gen/model/scores/'\n",
    "\n",
    "with open('/home/xilini/par-gen/01-par-gen/data/dataset_paragraphs_v1.json', 'r') as s:\n",
    "    data = json.load(s)['images']\n",
    "with open(basepath + 'VISUAL-beam_2_cidertest.json', 'r') as f1:\n",
    "    VISUAL = json.load(f1)\n",
    "with open(basepath + 'LANGUAGE-beam_2_cidertest.json', 'r') as f2:\n",
    "    LANGUAGE = json.load(f2)\n",
    "with open(basepath + 'VISUAL_LANGUAGE-beam_2_cidertest.json', 'r') as f3:\n",
    "    VIS_LANG = json.load(f3)"
   ]
  },
  {
   "cell_type": "code",
   "execution_count": 35,
   "metadata": {},
   "outputs": [],
   "source": [
    "# choose randomly 50 images and generate json file with paths to these images\n",
    "\n",
    "stanford_path = 'https://cs.stanford.edu/people/rak248/'\n",
    "image_loc = {}\n",
    "for item in data:\n",
    "    if item['split'] == 'test':\n",
    "        filepath = item['filepath']\n",
    "        image_id = item['stanford_par_id']\n",
    "        image_path = stanford_path + str(filepath) + '/' + str(image_id) + '.jpg'\n",
    "        image_loc[image_id] = image_path\n",
    "\n",
    "import random\n",
    "images = list(image_loc.keys())\n",
    "random.seed(4)\n",
    "random.shuffle(images)\n",
    "\n",
    "images = images[:50]\n",
    "\n",
    "random_dict = {}\n",
    "for k in images:\n",
    "    if k in image_loc.keys():\n",
    "        random_dict[k] = image_loc[k]\n",
    "\n",
    "with open('/home/xilini/par-gen/01-par-gen/data/stanford_loc.json', 'w') as st:\n",
    "    json.dump(random_dict, st)"
   ]
  },
  {
   "cell_type": "code",
   "execution_count": 37,
   "metadata": {},
   "outputs": [],
   "source": [
    "def make_df(data_input, par_dict):\n",
    "    csv_dict = {}\n",
    "    csv_dict['Image'] = []\n",
    "    csv_dict['Paragraph'] = []\n",
    "\n",
    "    for item in data_input:\n",
    "        if item['image_id'] in par_dict.keys():\n",
    "            image_link = par_dict[item['image_id']]\n",
    "            hyps = item['hypotheses']\n",
    "            csv_dict['Image'].append(image_link)\n",
    "            csv_dict['Paragraph'].append(hyps)\n",
    "            \n",
    "    return csv_dict"
   ]
  },
  {
   "cell_type": "code",
   "execution_count": null,
   "metadata": {},
   "outputs": [],
   "source": []
  },
  {
   "cell_type": "code",
   "execution_count": 42,
   "metadata": {},
   "outputs": [],
   "source": [
    "vis_df = make_df(VISUAL, random_dict)\n",
    "vis_csv_df = pd.DataFrame(data=vis_df)"
   ]
  },
  {
   "cell_type": "code",
   "execution_count": 44,
   "metadata": {},
   "outputs": [],
   "source": [
    "lang_df = make_df(LANGUAGE, random_dict)\n",
    "lang_csv_df = pd.DataFrame(data=lang_df)"
   ]
  },
  {
   "cell_type": "code",
   "execution_count": 45,
   "metadata": {},
   "outputs": [],
   "source": [
    "vis_lang_df = make_df(VIS_LANG, random_dict)\n",
    "vis_lang_csv_df = pd.DataFrame(data=vis_lang_df)"
   ]
  },
  {
   "cell_type": "code",
   "execution_count": 61,
   "metadata": {},
   "outputs": [],
   "source": [
    "vis_csv_df['Model'] = 'VISUAL'\n",
    "lang_csv_df['Model'] = 'LANGUAGE'\n",
    "vis_lang_csv_df['Model'] = 'VIS_LANG'"
   ]
  },
  {
   "cell_type": "code",
   "execution_count": 62,
   "metadata": {},
   "outputs": [
    {
     "data": {
      "text/plain": [
       "(50, 3)"
      ]
     },
     "execution_count": 62,
     "metadata": {},
     "output_type": "execute_result"
    }
   ],
   "source": [
    "vis_csv_df.shape"
   ]
  },
  {
   "cell_type": "code",
   "execution_count": 63,
   "metadata": {},
   "outputs": [
    {
     "data": {
      "text/plain": [
       "(50, 3)"
      ]
     },
     "execution_count": 63,
     "metadata": {},
     "output_type": "execute_result"
    }
   ],
   "source": [
    "lang_csv_df.shape"
   ]
  },
  {
   "cell_type": "code",
   "execution_count": 64,
   "metadata": {},
   "outputs": [
    {
     "data": {
      "text/plain": [
       "(50, 3)"
      ]
     },
     "execution_count": 64,
     "metadata": {},
     "output_type": "execute_result"
    }
   ],
   "source": [
    "vis_lang_csv_df.shape"
   ]
  },
  {
   "cell_type": "code",
   "execution_count": 65,
   "metadata": {},
   "outputs": [],
   "source": [
    "final_concat = pd.concat([vis_csv_df, lang_csv_df, vis_lang_csv_df])"
   ]
  },
  {
   "cell_type": "code",
   "execution_count": 66,
   "metadata": {},
   "outputs": [
    {
     "data": {
      "text/plain": [
       "(150, 3)"
      ]
     },
     "execution_count": 66,
     "metadata": {},
     "output_type": "execute_result"
    }
   ],
   "source": [
    "final_concat.shape"
   ]
  },
  {
   "cell_type": "code",
   "execution_count": 67,
   "metadata": {},
   "outputs": [],
   "source": [
    "final_concat.to_csv('./df_max_pool.csv', index=False)"
   ]
  },
  {
   "cell_type": "code",
   "execution_count": 68,
   "metadata": {},
   "outputs": [
    {
     "data": {
      "text/plain": [
       "(150, 3)"
      ]
     },
     "execution_count": 68,
     "metadata": {},
     "output_type": "execute_result"
    }
   ],
   "source": [
    "final_concat.shape"
   ]
  },
  {
   "cell_type": "code",
   "execution_count": 74,
   "metadata": {},
   "outputs": [
    {
     "data": {
      "text/html": [
       "<div>\n",
       "<style scoped>\n",
       "    .dataframe tbody tr th:only-of-type {\n",
       "        vertical-align: middle;\n",
       "    }\n",
       "\n",
       "    .dataframe tbody tr th {\n",
       "        vertical-align: top;\n",
       "    }\n",
       "\n",
       "    .dataframe thead th {\n",
       "        text-align: right;\n",
       "    }\n",
       "</style>\n",
       "<table border=\"1\" class=\"dataframe\">\n",
       "  <thead>\n",
       "    <tr style=\"text-align: right;\">\n",
       "      <th></th>\n",
       "      <th>Image</th>\n",
       "      <th>Paragraph</th>\n",
       "      <th>Model</th>\n",
       "    </tr>\n",
       "  </thead>\n",
       "  <tbody>\n",
       "    <tr>\n",
       "      <th>0</th>\n",
       "      <td>https://cs.stanford.edu/people/rak248/VG_100K/...</td>\n",
       "      <td>a plane is on a runway. the sky is very cloudy...</td>\n",
       "      <td>VISUAL</td>\n",
       "    </tr>\n",
       "    <tr>\n",
       "      <th>1</th>\n",
       "      <td>https://cs.stanford.edu/people/rak248/VG_100K/...</td>\n",
       "      <td>a man is standing on a beach. he is wearing a ...</td>\n",
       "      <td>VISUAL</td>\n",
       "    </tr>\n",
       "    <tr>\n",
       "      <th>2</th>\n",
       "      <td>https://cs.stanford.edu/people/rak248/VG_100K_...</td>\n",
       "      <td>a man is skiing on a hill. the man is wearing ...</td>\n",
       "      <td>VISUAL</td>\n",
       "    </tr>\n",
       "    <tr>\n",
       "      <th>3</th>\n",
       "      <td>https://cs.stanford.edu/people/rak248/VG_100K/...</td>\n",
       "      <td>a plane is on a runway. the airplane is blue a...</td>\n",
       "      <td>VISUAL</td>\n",
       "    </tr>\n",
       "    <tr>\n",
       "      <th>4</th>\n",
       "      <td>https://cs.stanford.edu/people/rak248/VG_100K/...</td>\n",
       "      <td>a woman is standing on a tennis court. she is ...</td>\n",
       "      <td>VISUAL</td>\n",
       "    </tr>\n",
       "    <tr>\n",
       "      <th>...</th>\n",
       "      <td>...</td>\n",
       "      <td>...</td>\n",
       "      <td>...</td>\n",
       "    </tr>\n",
       "    <tr>\n",
       "      <th>45</th>\n",
       "      <td>https://cs.stanford.edu/people/rak248/VG_100K_...</td>\n",
       "      <td>a man is standing on the ground. the man is we...</td>\n",
       "      <td>VIS_LANG</td>\n",
       "    </tr>\n",
       "    <tr>\n",
       "      <th>46</th>\n",
       "      <td>https://cs.stanford.edu/people/rak248/VG_100K_...</td>\n",
       "      <td>there are two zebras standing on the ground. t...</td>\n",
       "      <td>VIS_LANG</td>\n",
       "    </tr>\n",
       "    <tr>\n",
       "      <th>47</th>\n",
       "      <td>https://cs.stanford.edu/people/rak248/VG_100K_...</td>\n",
       "      <td>there is a giraffe standing in a field. there ...</td>\n",
       "      <td>VIS_LANG</td>\n",
       "    </tr>\n",
       "    <tr>\n",
       "      <th>48</th>\n",
       "      <td>https://cs.stanford.edu/people/rak248/VG_100K/...</td>\n",
       "      <td>a woman is walking on the sidewalk. the woman ...</td>\n",
       "      <td>VIS_LANG</td>\n",
       "    </tr>\n",
       "    <tr>\n",
       "      <th>49</th>\n",
       "      <td>https://cs.stanford.edu/people/rak248/VG_100K/...</td>\n",
       "      <td>the image is of a city street. the street is m...</td>\n",
       "      <td>VIS_LANG</td>\n",
       "    </tr>\n",
       "  </tbody>\n",
       "</table>\n",
       "<p>150 rows × 3 columns</p>\n",
       "</div>"
      ],
      "text/plain": [
       "                                                Image  \\\n",
       "0   https://cs.stanford.edu/people/rak248/VG_100K/...   \n",
       "1   https://cs.stanford.edu/people/rak248/VG_100K/...   \n",
       "2   https://cs.stanford.edu/people/rak248/VG_100K_...   \n",
       "3   https://cs.stanford.edu/people/rak248/VG_100K/...   \n",
       "4   https://cs.stanford.edu/people/rak248/VG_100K/...   \n",
       "..                                                ...   \n",
       "45  https://cs.stanford.edu/people/rak248/VG_100K_...   \n",
       "46  https://cs.stanford.edu/people/rak248/VG_100K_...   \n",
       "47  https://cs.stanford.edu/people/rak248/VG_100K_...   \n",
       "48  https://cs.stanford.edu/people/rak248/VG_100K/...   \n",
       "49  https://cs.stanford.edu/people/rak248/VG_100K/...   \n",
       "\n",
       "                                            Paragraph     Model  \n",
       "0   a plane is on a runway. the sky is very cloudy...    VISUAL  \n",
       "1   a man is standing on a beach. he is wearing a ...    VISUAL  \n",
       "2   a man is skiing on a hill. the man is wearing ...    VISUAL  \n",
       "3   a plane is on a runway. the airplane is blue a...    VISUAL  \n",
       "4   a woman is standing on a tennis court. she is ...    VISUAL  \n",
       "..                                                ...       ...  \n",
       "45  a man is standing on the ground. the man is we...  VIS_LANG  \n",
       "46  there are two zebras standing on the ground. t...  VIS_LANG  \n",
       "47  there is a giraffe standing in a field. there ...  VIS_LANG  \n",
       "48  a woman is walking on the sidewalk. the woman ...  VIS_LANG  \n",
       "49  the image is of a city street. the street is m...  VIS_LANG  \n",
       "\n",
       "[150 rows x 3 columns]"
      ]
     },
     "execution_count": 74,
     "metadata": {},
     "output_type": "execute_result"
    }
   ],
   "source": [
    "final_concat"
   ]
  },
  {
   "cell_type": "code",
   "execution_count": null,
   "metadata": {},
   "outputs": [],
   "source": []
  }
 ],
 "metadata": {
  "kernelspec": {
   "display_name": "Python 3",
   "language": "python",
   "name": "python3"
  },
  "language_info": {
   "codemirror_mode": {
    "name": "ipython",
    "version": 3
   },
   "file_extension": ".py",
   "mimetype": "text/x-python",
   "name": "python",
   "nbconvert_exporter": "python",
   "pygments_lexer": "ipython3",
   "version": "3.7.6"
  }
 },
 "nbformat": 4,
 "nbformat_minor": 4
}

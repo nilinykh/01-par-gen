{
 "cells": [
  {
   "cell_type": "code",
   "execution_count": 1,
   "metadata": {},
   "outputs": [],
   "source": [
    "import json\n",
    "import pandas as pd\n",
    "\n",
    "basepath = '/home/xilini/par-gen/01-par-gen/model/scores/'\n",
    "\n",
    "with open('/home/xilini/par-gen/01-par-gen/data/dataset_paragraphs_v1.json', 'r') as s:\n",
    "    data = json.load(s)['images']\n",
    "with open(basepath + 'VISUAL_ATTENTION-beam_2_cidertest.json', 'r') as f1:\n",
    "    VISUAL = json.load(f1)\n",
    "with open(basepath + 'LANGUAGE_ATTENTION-beam_2_cidertest.json', 'r') as f2:\n",
    "    LANGUAGE = json.load(f2)\n",
    "with open(basepath + 'VISUAL_LANG_ATTENTION_NOFUSION-beam_2_cidertest.json', 'r') as f3:\n",
    "    VIS_LANG = json.load(f3)"
   ]
  },
  {
   "cell_type": "code",
   "execution_count": 2,
   "metadata": {},
   "outputs": [],
   "source": [
    "with open(basepath + 'VISUAL_ATTENTION-beam_2_cidertest.json', 'r') as f1:\n",
    "    gt = json.load(f1)"
   ]
  },
  {
   "cell_type": "code",
   "execution_count": 4,
   "metadata": {},
   "outputs": [],
   "source": [
    "def make_gt_df(data_input, par_dict):\n",
    "    csv_dict = {}\n",
    "    csv_dict['Image'] = []\n",
    "    csv_dict['Paragraph'] = []\n",
    "\n",
    "    for item in data_input:\n",
    "        if str(item['image_id']) in par_dict.keys():\n",
    "            image_link = par_dict[str(item['image_id'])]\n",
    "            hyps = item['references']\n",
    "            csv_dict['Image'].append(image_link)\n",
    "            csv_dict['Paragraph'].append(hyps)\n",
    "            \n",
    "    return csv_dict"
   ]
  },
  {
   "cell_type": "code",
   "execution_count": 5,
   "metadata": {},
   "outputs": [],
   "source": [
    "gt_df = make_gt_df(gt, random_dict)"
   ]
  },
  {
   "cell_type": "code",
   "execution_count": 3,
   "metadata": {},
   "outputs": [],
   "source": [
    "with open('./images_to_publish.json', 'r') as st:\n",
    "    random_dict = json.load(st)"
   ]
  },
  {
   "cell_type": "code",
   "execution_count": 4,
   "metadata": {},
   "outputs": [],
   "source": [
    "# choose randomly 50 images and generate json file with paths to these images\n",
    "\n",
    "stanford_path = 'https://cs.stanford.edu/people/rak248/'\n",
    "image_loc = {}\n",
    "for item in data:\n",
    "    if item['split'] == 'test':\n",
    "        filepath = item['filepath']\n",
    "        image_id = item['stanford_par_id']\n",
    "        image_path = stanford_path + str(filepath) + '/' + str(image_id) + '.jpg'\n",
    "        image_loc[image_id] = image_path\n",
    "\n",
    "import random\n",
    "images = list(image_loc.keys())\n",
    "random.seed(4)\n",
    "random.shuffle(images)\n",
    "\n",
    "images = images[:15]\n",
    "\n",
    "random_dict = {}\n",
    "for k in images:\n",
    "    if k in image_loc.keys():\n",
    "        random_dict[k] = image_loc[k]\n",
    "\n",
    "with open('/home/xilini/par-gen/01-par-gen/human_evaluation/images_to_publish.json', 'w') as st:\n",
    "    json.dump(random_dict, st)"
   ]
  },
  {
   "cell_type": "code",
   "execution_count": 3,
   "metadata": {},
   "outputs": [],
   "source": [
    "def make_df(data_input, par_dict):\n",
    "    csv_dict = {}\n",
    "    csv_dict['Image'] = []\n",
    "    csv_dict['Paragraph'] = []\n",
    "\n",
    "    for item in data_input:\n",
    "        if str(item['image_id']) in par_dict.keys():\n",
    "            image_link = par_dict[str(item['image_id'])]\n",
    "            hyps = item['hypotheses']\n",
    "            csv_dict['Image'].append(image_link)\n",
    "            csv_dict['Paragraph'].append(hyps)\n",
    "            \n",
    "    return csv_dict"
   ]
  },
  {
   "cell_type": "code",
   "execution_count": null,
   "metadata": {},
   "outputs": [],
   "source": []
  },
  {
   "cell_type": "code",
   "execution_count": null,
   "metadata": {},
   "outputs": [],
   "source": [
    "vis_df = make_df(VISUAL, random_dict)\n",
    "vis_csv_df = pd.DataFrame(data=vis_df)"
   ]
  },
  {
   "cell_type": "code",
   "execution_count": null,
   "metadata": {},
   "outputs": [],
   "source": [
    "lang_df = make_df(LANGUAGE, random_dict)\n",
    "lang_csv_df = pd.DataFrame(data=lang_df)"
   ]
  },
  {
   "cell_type": "code",
   "execution_count": null,
   "metadata": {},
   "outputs": [],
   "source": [
    "vis_lang_df = make_df(VIS_LANG, random_dict)\n",
    "vis_lang_csv_df = pd.DataFrame(data=vis_lang_df)"
   ]
  },
  {
   "cell_type": "code",
   "execution_count": 7,
   "metadata": {},
   "outputs": [],
   "source": [
    "gt_csv_df = pd.DataFrame(data=gt_df)\n",
    "gt_csv_df['Model'] = 'GROUND_TRUTH'"
   ]
  },
  {
   "cell_type": "code",
   "execution_count": null,
   "metadata": {},
   "outputs": [],
   "source": [
    "#vis_csv_df['Model'] = 'VISUAL_ATT'\n",
    "#lang_csv_df['Model'] = 'LANGUAGE_ATT'\n",
    "vis_lang_csv_df['Model'] = 'VIS_LANG_ATT'"
   ]
  },
  {
   "cell_type": "code",
   "execution_count": null,
   "metadata": {},
   "outputs": [],
   "source": [
    "vis_csv_df.shape"
   ]
  },
  {
   "cell_type": "code",
   "execution_count": null,
   "metadata": {},
   "outputs": [],
   "source": [
    "lang_csv_df_p1 = lang_csv_df.iloc[:25]\n",
    "lang_csv_df_p2 = lang_csv_df.iloc[25:]"
   ]
  },
  {
   "cell_type": "code",
   "execution_count": null,
   "metadata": {},
   "outputs": [],
   "source": [
    "vis_lang_csv_df_p1 = vis_lang_csv_df.iloc[:25]\n",
    "vis_lang_csv_df_p2 = vis_lang_csv_df.iloc[25:]"
   ]
  },
  {
   "cell_type": "code",
   "execution_count": null,
   "metadata": {},
   "outputs": [],
   "source": [
    "vis_lang_csv_df_p1.to_csv('./df_vis_lang_att_p1.csv', index=False)\n",
    "vis_lang_csv_df_p2.to_csv('./df_vis_lang_att_p2.csv', index=False)"
   ]
  },
  {
   "cell_type": "code",
   "execution_count": null,
   "metadata": {},
   "outputs": [],
   "source": [
    "vis_lang_csv_df_p1"
   ]
  },
  {
   "cell_type": "code",
   "execution_count": null,
   "metadata": {},
   "outputs": [],
   "source": []
  },
  {
   "cell_type": "code",
   "execution_count": null,
   "metadata": {},
   "outputs": [],
   "source": [
    "vis_csv_df_p1"
   ]
  },
  {
   "cell_type": "code",
   "execution_count": null,
   "metadata": {},
   "outputs": [],
   "source": [
    "vis_csv_df_p2"
   ]
  },
  {
   "cell_type": "code",
   "execution_count": null,
   "metadata": {},
   "outputs": [],
   "source": [
    "lang_csv_df.shape"
   ]
  },
  {
   "cell_type": "code",
   "execution_count": null,
   "metadata": {},
   "outputs": [],
   "source": [
    "vis_lang_csv_df.shape"
   ]
  },
  {
   "cell_type": "code",
   "execution_count": null,
   "metadata": {},
   "outputs": [],
   "source": [
    "gt_csv_df.shape"
   ]
  },
  {
   "cell_type": "code",
   "execution_count": null,
   "metadata": {},
   "outputs": [],
   "source": [
    "final_concat = pd.concat([vis_csv_df, lang_csv_df, vis_lang_csv_df])"
   ]
  },
  {
   "cell_type": "code",
   "execution_count": null,
   "metadata": {},
   "outputs": [],
   "source": [
    "final_concat.shape"
   ]
  },
  {
   "cell_type": "code",
   "execution_count": null,
   "metadata": {},
   "outputs": [],
   "source": [
    "final_concat.to_csv('./df_att.csv', index=False)"
   ]
  },
  {
   "cell_type": "code",
   "execution_count": null,
   "metadata": {},
   "outputs": [],
   "source": [
    "final_concat.shape"
   ]
  },
  {
   "cell_type": "code",
   "execution_count": null,
   "metadata": {},
   "outputs": [],
   "source": [
    "final_concat"
   ]
  },
  {
   "cell_type": "code",
   "execution_count": null,
   "metadata": {},
   "outputs": [],
   "source": [
    "lang_csv_df_p1.to_csv('./df_lang_att_p1.csv', index=False)\n",
    "lang_csv_df_p2.to_csv('./df_lang_att_p2.csv', index=False)"
   ]
  },
  {
   "cell_type": "code",
   "execution_count": null,
   "metadata": {},
   "outputs": [],
   "source": [
    "lang_csv_df_p2_1 = lang_csv_df_p2.iloc[:1]"
   ]
  },
  {
   "cell_type": "code",
   "execution_count": null,
   "metadata": {},
   "outputs": [],
   "source": [
    "lang_csv_df_p2_1"
   ]
  },
  {
   "cell_type": "code",
   "execution_count": null,
   "metadata": {},
   "outputs": [],
   "source": [
    "lang_csv_df_p2_1.to_csv('./df_lang_att_p2_1.csv', index=False)"
   ]
  },
  {
   "cell_type": "code",
   "execution_count": null,
   "metadata": {},
   "outputs": [],
   "source": []
  },
  {
   "cell_type": "code",
   "execution_count": null,
   "metadata": {},
   "outputs": [],
   "source": [
    "lang_csv_df_p2_2 = lang_csv_df_p2.iloc[1:2]"
   ]
  },
  {
   "cell_type": "code",
   "execution_count": null,
   "metadata": {},
   "outputs": [],
   "source": [
    "lang_csv_df_p2_2"
   ]
  },
  {
   "cell_type": "code",
   "execution_count": null,
   "metadata": {},
   "outputs": [],
   "source": [
    "lang_csv_df_p2_2.to_csv('./df_lang_att_p2_2.csv', index=False)"
   ]
  },
  {
   "cell_type": "code",
   "execution_count": null,
   "metadata": {},
   "outputs": [],
   "source": []
  },
  {
   "cell_type": "code",
   "execution_count": null,
   "metadata": {},
   "outputs": [],
   "source": [
    "lang_csv_df_p2_3 = lang_csv_df_p2.iloc[2:3]"
   ]
  },
  {
   "cell_type": "code",
   "execution_count": null,
   "metadata": {},
   "outputs": [],
   "source": [
    "lang_csv_df_p2_3"
   ]
  },
  {
   "cell_type": "code",
   "execution_count": null,
   "metadata": {},
   "outputs": [],
   "source": [
    "lang_csv_df_p2_3.to_csv('./df_lang_att_p2_3.csv', index=False)"
   ]
  },
  {
   "cell_type": "code",
   "execution_count": null,
   "metadata": {},
   "outputs": [],
   "source": []
  },
  {
   "cell_type": "code",
   "execution_count": null,
   "metadata": {},
   "outputs": [],
   "source": [
    "lang_csv_df_p2_4 = lang_csv_df_p2.iloc[3:4]"
   ]
  },
  {
   "cell_type": "code",
   "execution_count": null,
   "metadata": {},
   "outputs": [],
   "source": [
    "lang_csv_df_p2_4"
   ]
  },
  {
   "cell_type": "code",
   "execution_count": null,
   "metadata": {},
   "outputs": [],
   "source": [
    "lang_csv_df_p2_4.to_csv('./df_lang_att_p2_4.csv', index=False)"
   ]
  },
  {
   "cell_type": "code",
   "execution_count": null,
   "metadata": {},
   "outputs": [],
   "source": []
  },
  {
   "cell_type": "code",
   "execution_count": null,
   "metadata": {},
   "outputs": [],
   "source": [
    "lang_csv_df_p2_rest = lang_csv_df_p2.iloc[6:]"
   ]
  },
  {
   "cell_type": "code",
   "execution_count": null,
   "metadata": {},
   "outputs": [],
   "source": [
    "lang_csv_df_p2_rest"
   ]
  },
  {
   "cell_type": "code",
   "execution_count": null,
   "metadata": {},
   "outputs": [],
   "source": [
    "lang_csv_df_p2_rest.to_csv('./df_lang_att_p2_rest.csv', index=False)"
   ]
  },
  {
   "cell_type": "code",
   "execution_count": null,
   "metadata": {},
   "outputs": [],
   "source": []
  },
  {
   "cell_type": "code",
   "execution_count": 11,
   "metadata": {},
   "outputs": [],
   "source": [
    "gt_csv_df_p1 = gt_csv_df.iloc[:25]\n",
    "gt_csv_df_p2 = gt_csv_df.iloc[25:]"
   ]
  },
  {
   "cell_type": "code",
   "execution_count": 13,
   "metadata": {},
   "outputs": [],
   "source": [
    "gt_csv_df_p1.to_csv('./df_gt_p1.csv', index=False)\n",
    "gt_csv_df_p2.to_csv('./df_gt_p2.csv', index=False)"
   ]
  },
  {
   "cell_type": "code",
   "execution_count": null,
   "metadata": {},
   "outputs": [],
   "source": []
  },
  {
   "cell_type": "code",
   "execution_count": null,
   "metadata": {},
   "outputs": [],
   "source": [
    "lang_csv_df_p2"
   ]
  },
  {
   "cell_type": "code",
   "execution_count": null,
   "metadata": {},
   "outputs": [],
   "source": [
    "vis_csv_df.to_csv('./df_vis_att.csv', index=False)"
   ]
  },
  {
   "cell_type": "code",
   "execution_count": null,
   "metadata": {},
   "outputs": [],
   "source": [
    "lang_csv_df.to_csv('./df_lang_att.csv', index=False)"
   ]
  },
  {
   "cell_type": "code",
   "execution_count": null,
   "metadata": {},
   "outputs": [],
   "source": [
    "vis_lang_csv_df.to_csv('./df_vis_lang_att.csv', index=False)"
   ]
  },
  {
   "cell_type": "code",
   "execution_count": null,
   "metadata": {},
   "outputs": [],
   "source": [
    "gt_csv_df.to_csv('./df_gt.csv', index=False)"
   ]
  },
  {
   "cell_type": "code",
   "execution_count": null,
   "metadata": {},
   "outputs": [],
   "source": [
    "# results for VIS, LANG, VIS + LANG\n",
    "import pandas as pd\n",
    "res_df = pd.read_csv('results_TEST/Batch_4155507_batch_results.csv')"
   ]
  },
  {
   "cell_type": "code",
   "execution_count": null,
   "metadata": {},
   "outputs": [],
   "source": [
    "res_df.columns"
   ]
  },
  {
   "cell_type": "code",
   "execution_count": null,
   "metadata": {},
   "outputs": [],
   "source": [
    "res_df = res_df[['Input.Image',\n",
    "       'Input.Paragraph', 'Input.Model', 'Answer.objSalience_LANGUAGE',\n",
    "       'Answer.objSalience_VISUAL', 'Answer.objSalience_VIS_LANG',\n",
    "       'Answer.parCoherence_LANGUAGE', 'Answer.parCoherence_VISUAL',\n",
    "       'Answer.parCoherence_VIS_LANG', 'Answer.sentStructure_LANGUAGE',\n",
    "       'Answer.sentStructure_VISUAL', 'Answer.sentStructure_VIS_LANG',\n",
    "       'Answer.wordChoice_LANGUAGE', 'Answer.wordChoice_VISUAL',\n",
    "       'Answer.wordChoice_VIS_LANG']]"
   ]
  },
  {
   "cell_type": "code",
   "execution_count": null,
   "metadata": {},
   "outputs": [],
   "source": [
    "res_df_vis = res_df[['Input.Image',\n",
    "       'Input.Paragraph', 'Input.Model',\n",
    "       'Answer.objSalience_VISUAL', 'Answer.parCoherence_VISUAL',\n",
    "       'Answer.sentStructure_VISUAL','Answer.wordChoice_VISUAL']]\n",
    "res_df_vis = res_df_vis[res_df_vis['Input.Model'] == 'VISUAL']\n",
    "\n",
    "res_df_lang = res_df[['Input.Image',\n",
    "       'Input.Paragraph', 'Input.Model',\n",
    "       'Answer.objSalience_LANGUAGE', 'Answer.parCoherence_LANGUAGE',\n",
    "       'Answer.sentStructure_LANGUAGE','Answer.wordChoice_LANGUAGE']]\n",
    "res_df_lang = res_df_lang[res_df_lang['Input.Model'] == 'LANGUAGE']\n",
    "\n",
    "res_df_vis_lang = res_df[['Input.Image',\n",
    "       'Input.Paragraph', 'Input.Model',\n",
    "       'Answer.objSalience_VIS_LANG', 'Answer.parCoherence_VIS_LANG',\n",
    "       'Answer.sentStructure_VIS_LANG','Answer.wordChoice_VIS_LANG']]\n",
    "res_df_vis_lang = res_df_vis_lang[res_df_vis_lang['Input.Model'] == 'VIS_LANG']"
   ]
  },
  {
   "cell_type": "code",
   "execution_count": null,
   "metadata": {},
   "outputs": [],
   "source": [
    "res_df_vis.shape"
   ]
  },
  {
   "cell_type": "code",
   "execution_count": null,
   "metadata": {},
   "outputs": [],
   "source": [
    "res_df_lang.shape"
   ]
  },
  {
   "cell_type": "code",
   "execution_count": null,
   "metadata": {},
   "outputs": [],
   "source": [
    "res_df_vis_lang.shape"
   ]
  },
  {
   "cell_type": "code",
   "execution_count": null,
   "metadata": {},
   "outputs": [],
   "source": [
    "print(res_df_vis['Answer.wordChoice_VISUAL'].mean())\n",
    "print(res_df_vis['Answer.objSalience_VISUAL'].mean())\n",
    "print(res_df_vis['Answer.sentStructure_VISUAL'].mean())\n",
    "print(res_df_vis['Answer.parCoherence_VISUAL'].mean())"
   ]
  },
  {
   "cell_type": "code",
   "execution_count": null,
   "metadata": {},
   "outputs": [],
   "source": [
    "print(res_df_lang['Answer.wordChoice_LANGUAGE'].mean())\n",
    "print(res_df_lang['Answer.objSalience_LANGUAGE'].mean())\n",
    "print(res_df_lang['Answer.sentStructure_LANGUAGE'].mean())\n",
    "print(res_df_lang['Answer.parCoherence_LANGUAGE'].mean())"
   ]
  },
  {
   "cell_type": "code",
   "execution_count": null,
   "metadata": {},
   "outputs": [],
   "source": [
    "print(res_df_vis_lang['Answer.wordChoice_VIS_LANG'].mean())\n",
    "print(res_df_vis_lang['Answer.objSalience_VIS_LANG'].mean())\n",
    "print(res_df_vis_lang['Answer.sentStructure_VIS_LANG'].mean())\n",
    "print(res_df_vis_lang['Answer.parCoherence_VIS_LANG'].mean())"
   ]
  },
  {
   "cell_type": "code",
   "execution_count": null,
   "metadata": {},
   "outputs": [],
   "source": [
    "# count workers\n",
    "worker_df = pd.read_csv('results_TEST/Batch_4155507_batch_results.csv')"
   ]
  },
  {
   "cell_type": "code",
   "execution_count": null,
   "metadata": {},
   "outputs": [],
   "source": [
    "worker_df.groupby('WorkerId').count()"
   ]
  },
  {
   "cell_type": "code",
   "execution_count": null,
   "metadata": {},
   "outputs": [],
   "source": [
    "worker_df.columns"
   ]
  },
  {
   "cell_type": "code",
   "execution_count": null,
   "metadata": {},
   "outputs": [],
   "source": [
    "worker_df['WorkTimeInSeconds'].mean()\n",
    "# 7 minutes per task (?), quite a lot...\n",
    "timings = worker_df[['AcceptTime', 'SubmitTime']]\n",
    "timings.loc[:, 'AcceptTime'] = pd.to_datetime(timings['AcceptTime'])\n",
    "timings.loc[:, 'SubmitTime'] =  pd.to_datetime(timings['SubmitTime'])\n",
    "timings['diff'] = timings['SubmitTime'] - timings['AcceptTime']\n",
    "diff = timings['diff']\n",
    "\n",
    "diff.dt.total_seconds().min()\n",
    "diff.dt.total_seconds().max()"
   ]
  },
  {
   "cell_type": "code",
   "execution_count": null,
   "metadata": {},
   "outputs": [],
   "source": [
    "timings = worker_df[['AcceptTime', 'SubmitTime']]"
   ]
  },
  {
   "cell_type": "code",
   "execution_count": null,
   "metadata": {},
   "outputs": [],
   "source": [
    "timings.head()"
   ]
  },
  {
   "cell_type": "code",
   "execution_count": null,
   "metadata": {},
   "outputs": [],
   "source": [
    "timings.loc[:, 'AcceptTime'] = pd.to_datetime(timings['AcceptTime'])\n",
    "timings.loc[:, 'SubmitTime'] =  pd.to_datetime(timings['SubmitTime'])"
   ]
  },
  {
   "cell_type": "code",
   "execution_count": null,
   "metadata": {},
   "outputs": [],
   "source": [
    "timings"
   ]
  },
  {
   "cell_type": "code",
   "execution_count": null,
   "metadata": {},
   "outputs": [],
   "source": [
    "timings['diff'] = timings['SubmitTime'] - timings['AcceptTime']"
   ]
  },
  {
   "cell_type": "code",
   "execution_count": null,
   "metadata": {},
   "outputs": [],
   "source": [
    "diff = timings['diff']"
   ]
  },
  {
   "cell_type": "code",
   "execution_count": null,
   "metadata": {},
   "outputs": [],
   "source": [
    "diff.dt.total_seconds().min()"
   ]
  },
  {
   "cell_type": "code",
   "execution_count": null,
   "metadata": {},
   "outputs": [],
   "source": [
    "diff.dt.total_seconds().max()"
   ]
  },
  {
   "cell_type": "code",
   "execution_count": null,
   "metadata": {},
   "outputs": [],
   "source": [
    "# run qualification thingy every 20 seconds (!)"
   ]
  },
  {
   "cell_type": "code",
   "execution_count": null,
   "metadata": {},
   "outputs": [],
   "source": []
  }
 ],
 "metadata": {
  "kernelspec": {
   "display_name": "Python 3",
   "language": "python",
   "name": "python3"
  },
  "language_info": {
   "codemirror_mode": {
    "name": "ipython",
    "version": 3
   },
   "file_extension": ".py",
   "mimetype": "text/x-python",
   "name": "python",
   "nbconvert_exporter": "python",
   "pygments_lexer": "ipython3",
   "version": "3.7.6"
  }
 },
 "nbformat": 4,
 "nbformat_minor": 4
}

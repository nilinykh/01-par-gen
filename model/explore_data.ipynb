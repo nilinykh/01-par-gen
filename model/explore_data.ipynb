{
 "cells": [
  {
   "cell_type": "code",
   "execution_count": null,
   "metadata": {},
   "outputs": [],
   "source": [
    "import json\n",
    "from IPython.core.display import Image, display\n",
    "\n",
    "with open('/home/xilini/par-gen/01-par-gen/data/dataset_paragraphs_v1.json', 'r') as p:\n",
    "    paragraphs = json.load(p)['images']\n",
    "val_paragraphs = [elem for elem in paragraphs if elem['split'] == 'test']\n",
    "\n",
    "def show_image(image_id):\n",
    "    vis_data_basepath = '/home/xilini/vis-data/'\n",
    "    filename = str(image_id) + '.jpg'\n",
    "    print(filename)\n",
    "    for item in val_paragraphs:\n",
    "        if filename == item['filename']:\n",
    "            return vis_data_basepath + item['filepath'] + '/' + item['filename']\n",
    "    return 'Not Found'\n",
    "\n",
    "VISUAL = './scores/VISUAL-beam_2_nominlength.json'\n",
    "VISUAL_ATT = './scores/VISUAL_ATTENTION-beam_2_nominlength.json'\n",
    "LANGUAGE = './scores/LANGUAGE-beam_2_nominlength.json'\n",
    "LANGUAGE_ATT = './scores/LANGUAGE_ATTENTION-beam_2_nominlength.json'\n",
    "VISUAL_LANGUAGE = './scores/VISUAL_LANGUAGE-beam_2_nominlength.json'\n",
    "VISUAL_LANGUAGE_ATT = './scores/VISUAL_LANGUAGE_ATTENTION-beam_2_nominlength.json'\n",
    "\n",
    "with open(VISUAL, 'r') as f:\n",
    "    VISUAL = json.load(f)\n",
    "with open(VISUAL_ATT, 'r') as k:\n",
    "    VISUAL_ATT = json.load(k)\n",
    "with open(LANGUAGE, 'r') as l:\n",
    "    LANGUAGE = json.load(l)\n",
    "with open(LANGUAGE_ATT, 'r') as p:\n",
    "    LANGUAGE_ATT = json.load(p)\n",
    "with open(VISUAL_LANGUAGE, 'r') as p:\n",
    "    VISUAL_LANGUAGE = json.load(p)\n",
    "with open(VISUAL_LANGUAGE_ATT, 'r') as p:\n",
    "    VISUAL_LANGUAGE_ATT = json.load(p)"
   ]
  },
  {
   "cell_type": "code",
   "execution_count": null,
   "metadata": {},
   "outputs": [],
   "source": [
    "'''\n",
    "2414610 - very good\n",
    "2356788 - very good\n",
    "2384003 - very very good\n",
    "2377579 - also good?\n",
    "\n",
    "NEED TO LOOK AT THE ATTENTION MAPS\n",
    "\n",
    "2398714 - good ?\n",
    "2336456 - a good example (vis lang att VS vis)\n",
    "2380121 (?)\n",
    "2355670 (?) - good\n",
    "2381785 (?) - good\n",
    "2366569 (?) - interesting\n",
    "2406466 (?) - interesting, but repetitive\n",
    "2410179 (?) - kind of interesting\n",
    "2361832 (?) - interesting\n",
    "2408898 - interesting, accuracy issues\n",
    "2336100 - very interesting (diversity issues more than accuracy issues)\n",
    "2395970 - kind of interesting\n",
    "\n",
    "'''"
   ]
  },
  {
   "cell_type": "code",
   "execution_count": null,
   "metadata": {},
   "outputs": [],
   "source": [
    "sample_id = 2368945"
   ]
  },
  {
   "cell_type": "code",
   "execution_count": null,
   "metadata": {},
   "outputs": [],
   "source": [
    "display(Image(show_image(2368945),\n",
    "                  width=300, unconfined=False))"
   ]
  },
  {
   "cell_type": "code",
   "execution_count": null,
   "metadata": {},
   "outputs": [],
   "source": [
    "print('GROUND TRUTH')\n",
    "for item in VISUAL:\n",
    "    if item['image_id'] == sample_id:\n",
    "        print(item['references'])"
   ]
  },
  {
   "cell_type": "code",
   "execution_count": null,
   "metadata": {},
   "outputs": [],
   "source": [
    "for item in VISUAL:\n",
    "    if item['image_id'] == sample_id:\n",
    "        print(item['hypotheses'])"
   ]
  },
  {
   "cell_type": "code",
   "execution_count": null,
   "metadata": {},
   "outputs": [],
   "source": [
    "for item in VISUAL_ATT:\n",
    "    if item['image_id'] == sample_id:\n",
    "        print(item['hypotheses'])"
   ]
  },
  {
   "cell_type": "code",
   "execution_count": null,
   "metadata": {},
   "outputs": [],
   "source": [
    "for item in LANGUAGE:\n",
    "    if item['image_id'] == sample_id:\n",
    "        print(item['hypotheses'])"
   ]
  },
  {
   "cell_type": "code",
   "execution_count": null,
   "metadata": {},
   "outputs": [],
   "source": [
    "for item in VISUAL_LANGUAGE:\n",
    "    if item['image_id'] == sample_id:\n",
    "        print(item['hypotheses'])"
   ]
  },
  {
   "cell_type": "code",
   "execution_count": null,
   "metadata": {},
   "outputs": [],
   "source": [
    "for item in VISUAL_LANGUAGE_ATT:\n",
    "    if item['image_id'] == sample_id:\n",
    "        print(item['hypotheses'])"
   ]
  },
  {
   "cell_type": "code",
   "execution_count": null,
   "metadata": {},
   "outputs": [],
   "source": [
    "for item in VISUAL_LANGUAGE_ATT:\n",
    "    display(Image(show_image(item['image_id']),\n",
    "                  width=300, unconfined=False))\n",
    "    print(item['hypotheses'])"
   ]
  },
  {
   "cell_type": "code",
   "execution_count": null,
   "metadata": {},
   "outputs": [],
   "source": []
  }
 ],
 "metadata": {
  "kernelspec": {
   "display_name": "Python 3",
   "language": "python",
   "name": "python3"
  },
  "language_info": {
   "codemirror_mode": {
    "name": "ipython",
    "version": 3
   },
   "file_extension": ".py",
   "mimetype": "text/x-python",
   "name": "python",
   "nbconvert_exporter": "python",
   "pygments_lexer": "ipython3",
   "version": "3.7.6"
  }
 },
 "nbformat": 4,
 "nbformat_minor": 4
}

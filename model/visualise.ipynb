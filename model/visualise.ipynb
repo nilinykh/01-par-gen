{
 "cells": [
  {
   "cell_type": "code",
   "execution_count": 1,
   "metadata": {},
   "outputs": [
    {
     "name": "stdout",
     "output_type": "stream",
     "text": [
      "env: CUDA_VISIBLE_DEVICES=2\n"
     ]
    }
   ],
   "source": [
    "%env CUDA_VISIBLE_DEVICES=2\n",
    "\n",
    "import json\n",
    "from IPython.core.display import Image, display\n",
    "\n",
    "with open('/home/xilini/par-gen/01-par-gen/data/dataset_paragraphs_v1.json', 'r') as p:\n",
    "    paragraphs = json.load(p)['images']\n",
    "    \n",
    "val_paragraphs = [elem for elem in paragraphs if elem['split'] == 'test']"
   ]
  },
  {
   "cell_type": "code",
   "execution_count": 2,
   "metadata": {},
   "outputs": [],
   "source": [
    "def show_image(image_id):\n",
    "    vis_data_basepath = '/home/xilini/vis-data/'\n",
    "    filename = str(image_id) + '.jpg'\n",
    "    print(filename)\n",
    "    for item in val_paragraphs:\n",
    "        if filename == item['filename']:\n",
    "            return vis_data_basepath + item['filepath'] + '/' + item['filename']\n",
    "    return 'Not Found'"
   ]
  },
  {
   "cell_type": "code",
   "execution_count": 3,
   "metadata": {
    "scrolled": true
   },
   "outputs": [
    {
     "name": "stdout",
     "output_type": "stream",
     "text": [
      "Training embeddings from scratch...\n",
      "/home/xilini/anaconda3/envs/vis-par/lib/python3.7/site-packages/torch/serialization.py:593: SourceChangeWarning: source code of class 'models.WordRNN' has changed. you can retrieve the original source code by accessing the object's source attribute or set `torch.nn.Module.dump_patches = True` and use the patch tool to revert the changes.\n",
      "  warnings.warn(msg, SourceChangeWarning)\n",
      "Traceback (most recent call last):\n",
      "  File \"generate.py\", line 580, in <module>\n",
      "    main(arguments)\n",
      "  File \"generate.py\", line 109, in main\n",
      "    word_decoder.load_state_dict(this_checkpoint['word_decoder'].state_dict())\n",
      "  File \"/home/xilini/anaconda3/envs/vis-par/lib/python3.7/site-packages/torch/nn/modules/module.py\", line 830, in load_state_dict\n",
      "    self.__class__.__name__, \"\\n\\t\".join(error_msgs)))\n",
      "RuntimeError: Error(s) in loading state_dict for WordRNN:\n",
      "\tUnexpected key(s) in state_dict: \"topic_to_hidden.weight\", \"topic_to_hidden.bias\", \"topic_to_cell.weight\", \"topic_to_cell.bias\". \n"
     ]
    }
   ],
   "source": [
    "!python generate.py"
   ]
  },
  {
   "cell_type": "code",
   "execution_count": null,
   "metadata": {
    "scrolled": false
   },
   "outputs": [],
   "source": [
    "with open('./scores/lang-att-nucleus.json', 'r') as j:\n",
    "    generated_pars = json.load(j)\n",
    "        \n",
    "for i in generated_pars:\n",
    "    display(Image(show_image(i['image_id']),\n",
    "                  width=300, unconfined=False))\n",
    "    print('REF\\t', i['references'])\n",
    "    print('HYP\\t', i['hypotheses'])\n",
    "    print()\n",
    "    \n",
    "#display(Image(show_image(2414564), width=500, unconfined=False))"
   ]
  },
  {
   "cell_type": "code",
   "execution_count": null,
   "metadata": {},
   "outputs": [],
   "source": []
  },
  {
   "cell_type": "code",
   "execution_count": null,
   "metadata": {},
   "outputs": [],
   "source": []
  }
 ],
 "metadata": {
  "kernelspec": {
   "display_name": "Python 3",
   "language": "python",
   "name": "python3"
  },
  "language_info": {
   "codemirror_mode": {
    "name": "ipython",
    "version": 3
   },
   "file_extension": ".py",
   "mimetype": "text/x-python",
   "name": "python",
   "nbconvert_exporter": "python",
   "pygments_lexer": "ipython3",
   "version": "3.7.6"
  }
 },
 "nbformat": 4,
 "nbformat_minor": 4
}

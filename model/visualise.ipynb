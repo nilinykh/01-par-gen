{
 "cells": [
  {
   "cell_type": "code",
   "execution_count": null,
   "metadata": {},
   "outputs": [],
   "source": [
    "%env CUDA_VISIBLE_DEVICES=2\n",
    "\n",
    "import json\n",
    "from IPython.core.display import Image, display\n",
    "\n",
    "with open('/home/xilini/par-gen/01-par-gen/data/dataset_paragraphs_v1.json', 'r') as p:\n",
    "    paragraphs = json.load(p)['images']\n",
    "    \n",
    "val_paragraphs = [elem for elem in paragraphs if elem['split'] == 'test']"
   ]
  },
  {
   "cell_type": "code",
   "execution_count": null,
   "metadata": {},
   "outputs": [],
   "source": [
    "def show_image(image_id):\n",
    "    vis_data_basepath = '/home/xilini/vis-data/'\n",
    "    filename = str(image_id) + '.jpg'\n",
    "    print(filename)\n",
    "    for item in val_paragraphs:\n",
    "        if filename == item['filename']:\n",
    "            return vis_data_basepath + item['filepath'] + '/' + item['filename']\n",
    "    return 'Not Found'"
   ]
  },
  {
   "cell_type": "code",
   "execution_count": null,
   "metadata": {
    "scrolled": true
   },
   "outputs": [],
   "source": [
    "!python generate_att.py"
   ]
  },
  {
   "cell_type": "code",
   "execution_count": null,
   "metadata": {
    "scrolled": false
   },
   "outputs": [],
   "source": [
    "with open('./scores/test.json', 'r') as j:\n",
    "    generated_pars = json.load(j)\n",
    "        \n",
    "for i in generated_pars:\n",
    "    display(Image(show_image(i['image_id']),\n",
    "                  width=300, unconfined=False))\n",
    "    print('REF\\t', i['references'])\n",
    "    print('HYP\\t', i['hypotheses'])\n",
    "    print()    \n",
    "#display(Image(show_image(2414564), width=500, unconfined=False))"
   ]
  },
  {
   "cell_type": "code",
   "execution_count": null,
   "metadata": {},
   "outputs": [],
   "source": []
  },
  {
   "cell_type": "code",
   "execution_count": null,
   "metadata": {},
   "outputs": [],
   "source": []
  }
 ],
 "metadata": {
  "kernelspec": {
   "display_name": "Python 3",
   "language": "python",
   "name": "python3"
  },
  "language_info": {
   "codemirror_mode": {
    "name": "ipython",
    "version": 3
   },
   "file_extension": ".py",
   "mimetype": "text/x-python",
   "name": "python",
   "nbconvert_exporter": "python",
   "pygments_lexer": "ipython3",
   "version": "3.7.6"
  }
 },
 "nbformat": 4,
 "nbformat_minor": 4
}

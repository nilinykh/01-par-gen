{
 "cells": [
  {
   "cell_type": "code",
   "execution_count": null,
   "metadata": {},
   "outputs": [],
   "source": [
    "import json\n",
    "\n",
    "with open('./paragraphs_v1.json', 'r') as f:\n",
    "    paragraphs = json.load(f)\n",
    "with open('/home/xilini/par-gen/im2p_new/data/dataset_paragraphs.json', 'r') as j:\n",
    "    preprocessed_paragraphs = json.load(j)\n",
    "with open('/home/xilini/par-gen/im2p_new/data/new_splits.json', 'r') as i:\n",
    "    splits = json.load(i)"
   ]
  },
  {
   "cell_type": "code",
   "execution_count": null,
   "metadata": {},
   "outputs": [],
   "source": [
    "paragraphs"
   ]
  },
  {
   "cell_type": "code",
   "execution_count": null,
   "metadata": {},
   "outputs": [],
   "source": [
    "splits"
   ]
  },
  {
   "cell_type": "code",
   "execution_count": null,
   "metadata": {},
   "outputs": [],
   "source": [
    "curr_sentence_id = 0\n",
    "from spacy.lang.en import English # updated\n",
    "from autocorrect import Speller\n",
    "spell = Speller(lang='en')\n",
    "\n",
    "nlp = English()\n",
    "nlp.add_pipe(nlp.create_pipe('sentencizer')) # updated\n",
    "\n",
    "all_images = {}\n",
    "all_images['images'] = []\n",
    "\n",
    "for par_num, paragraph in enumerate(paragraphs, 1):\n",
    "    filepath = paragraph['url'].split('/')[-2]\n",
    "    filename = paragraph['url'].split('/')[-1]\n",
    "    imgid = par_num\n",
    "    split = splits[str(filename.split('.')[0])]\n",
    "    \n",
    "    paragraph = paragraph['paragraph']\n",
    "    doc = nlp(paragraph)\n",
    "    sentences = [sent for sent in doc.sents]\n",
    "    \n",
    "    sent_dict = {}\n",
    "    sent_dict['filepath'] = filepath\n",
    "    sent_dict['filename'] = filename\n",
    "    sent_dict['imgid'] = imgid\n",
    "    sent_dict['split'] = split\n",
    "    sent_dict['sentences'] = []\n",
    "    \n",
    "    sent_ids = []\n",
    "    tokens_dict = {}\n",
    "    \n",
    "    for s in sentences:\n",
    "        tokens_dict = {}\n",
    "        raw_sentence = s\n",
    "        #print(raw_sentence)\n",
    "        tokens = [token.orth_.lower().rstrip() for token in raw_sentence if not token.is_punct]\n",
    "        tokens = [t for t in tokens if t != '']\n",
    "        # check mispelled\n",
    "        tokens = [spell(t) for t in tokens]\n",
    "        tokens_dict['tokens'] = tokens\n",
    "        tokens_dict['raw'] = str(raw_sentence)\n",
    "        tokens_dict['imgid'] = imgid\n",
    "        tokens_dict['sentid'] = curr_sentence_id\n",
    "        sent_ids.append(curr_sentence_id)\n",
    "        curr_sentence_id += 1\n",
    "        \n",
    "        sent_dict['sentences'].append(tokens_dict)\n",
    "\n",
    "    sent_dict['stanford_par_id'] = int(filename.split('.jpg')[0])\n",
    "    sent_dict['sentids'] = sent_ids\n",
    "    all_images['images'].append(sent_dict)\n",
    "    #break\n",
    "    #print(split)"
   ]
  },
  {
   "cell_type": "code",
   "execution_count": null,
   "metadata": {},
   "outputs": [],
   "source": [
    "all_images['images'][-1]"
   ]
  },
  {
   "cell_type": "code",
   "execution_count": null,
   "metadata": {},
   "outputs": [],
   "source": [
    "preprocessed_paragraphs['images'][-1]"
   ]
  },
  {
   "cell_type": "code",
   "execution_count": null,
   "metadata": {},
   "outputs": [],
   "source": [
    "with open('/home/xilini/par-gen/im2p_new/data/dataset_paragraphs_v3.json', 'w') as w:\n",
    "    json.dump(all_images, w)"
   ]
  },
  {
   "cell_type": "code",
   "execution_count": null,
   "metadata": {},
   "outputs": [],
   "source": [
    "with open('/home/xilini/par-gen/im2p_new/data/dataset_paragraphs_v3.json', 'r') as w:\n",
    "    imgs = json.load(w)"
   ]
  },
  {
   "cell_type": "code",
   "execution_count": null,
   "metadata": {},
   "outputs": [],
   "source": [
    "max_sentence_length = 0\n",
    "for elem in imgs['images']:\n",
    "    for s in elem['sentences']:\n",
    "        if len(s['tokens']) > max_sentence_length:\n",
    "            max_sentence_length = len(s['tokens'])"
   ]
  },
  {
   "cell_type": "code",
   "execution_count": null,
   "metadata": {},
   "outputs": [],
   "source": [
    "max_sentence_length"
   ]
  },
  {
   "cell_type": "code",
   "execution_count": null,
   "metadata": {},
   "outputs": [],
   "source": [
    "c = 0\n",
    "for i in imgs['images']:\n",
    "    if i['split'] == 'train':\n",
    "        c += 1\n",
    "c"
   ]
  },
  {
   "cell_type": "code",
   "execution_count": null,
   "metadata": {},
   "outputs": [],
   "source": []
  }
 ],
 "metadata": {
  "kernelspec": {
   "display_name": "Python 3",
   "language": "python",
   "name": "python3"
  },
  "language_info": {
   "codemirror_mode": {
    "name": "ipython",
    "version": 3
   },
   "file_extension": ".py",
   "mimetype": "text/x-python",
   "name": "python",
   "nbconvert_exporter": "python",
   "pygments_lexer": "ipython3",
   "version": "3.7.4"
  }
 },
 "nbformat": 4,
 "nbformat_minor": 4
}
